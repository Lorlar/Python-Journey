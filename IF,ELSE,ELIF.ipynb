{
 "cells": [
  {
   "cell_type": "code",
   "execution_count": 1,
   "id": "edbd4012",
   "metadata": {},
   "outputs": [
    {
     "name": "stdout",
     "output_type": "stream",
     "text": [
      "Conditionals: IF statements\n"
     ]
    }
   ],
   "source": [
    "print(\"Conditionals: IF statements\")\n"
   ]
  },
  {
   "cell_type": "code",
   "execution_count": 2,
   "id": "4dfc06e7",
   "metadata": {},
   "outputs": [
    {
     "name": "stdout",
     "output_type": "stream",
     "text": [
      "Good Morning\n",
      "Bring Umbrella\n"
     ]
    }
   ],
   "source": [
    "is_raining = True\n",
    "print(\"Good Morning\")\n",
    "if is_raining:\n",
    "    print(\"Bring Umbrella\")"
   ]
  },
  {
   "cell_type": "code",
   "execution_count": 3,
   "id": "741cf164",
   "metadata": {},
   "outputs": [
    {
     "name": "stdout",
     "output_type": "stream",
     "text": [
      "Good Morning\n",
      "Umbrella is optional\n"
     ]
    }
   ],
   "source": [
    "is_raining = False\n",
    "print(\"Good Morning\")\n",
    "if is_raining:\n",
    "    print(\"Bring Umbrella\")\n",
    "else:\n",
    "    print(\"Umbrella is optional\")"
   ]
  },
  {
   "cell_type": "code",
   "execution_count": 4,
   "id": "72448053",
   "metadata": {},
   "outputs": [
    {
     "name": "stdout",
     "output_type": "stream",
     "text": [
      "Good Morning\n",
      "Bring Umbrella or jacket or both\n"
     ]
    }
   ],
   "source": [
    "is_raining = True\n",
    "is_cold = True\n",
    "print(\"Good Morning\")\n",
    "if is_raining or is_cold:\n",
    "    print(\"Bring Umbrella or jacket or both\")\n",
    "else:\n",
    "    print(\"Umbrella is optional\")"
   ]
  },
  {
   "cell_type": "code",
   "execution_count": 5,
   "id": "0e6f0a1e",
   "metadata": {},
   "outputs": [
    {
     "name": "stdout",
     "output_type": "stream",
     "text": [
      "Good Morning\n",
      "Umbrella is optional\n"
     ]
    }
   ],
   "source": [
    "is_raining = False\n",
    "is_cold = False\n",
    "print(\"Good Morning\")\n",
    "if is_raining or is_cold:\n",
    "    print(\"Bring Umbrella or jacket or both\")\n",
    "else:\n",
    "    print(\"Umbrella is optional\")"
   ]
  },
  {
   "cell_type": "code",
   "execution_count": 6,
   "id": "b00ad7a3",
   "metadata": {},
   "outputs": [
    {
     "name": "stdout",
     "output_type": "stream",
     "text": [
      "Good Morning\n",
      "Umbrella is optional\n"
     ]
    }
   ],
   "source": [
    "is_raining = False\n",
    "is_cold = False\n",
    "print(\"Good Morning\")\n",
    "if is_raining and is_cold:\n",
    "    print(\"Bring Umbrella or jacket or both\")\n",
    "else:\n",
    "    print(\"Umbrella is optional\")"
   ]
  },
  {
   "cell_type": "code",
   "execution_count": 7,
   "id": "3f481d19",
   "metadata": {},
   "outputs": [
    {
     "name": "stdout",
     "output_type": "stream",
     "text": [
      "Good Morning\n",
      "Bring Umbrella and jacket\n"
     ]
    }
   ],
   "source": [
    "is_raining = True\n",
    "is_cold = True\n",
    "print(\"Good Morning\")\n",
    "if is_raining and is_cold:\n",
    "    print(\"Bring Umbrella and jacket\")\n",
    "else:\n",
    "    print(\"Umbrella is optional\")"
   ]
  },
  {
   "cell_type": "code",
   "execution_count": 8,
   "id": "4566f274",
   "metadata": {},
   "outputs": [
    {
     "name": "stdout",
     "output_type": "stream",
     "text": [
      "Good Morning\n",
      "Bring Umbrella and jacket\n"
     ]
    }
   ],
   "source": [
    "is_raining = True\n",
    "is_cold = True\n",
    "print(\"Good Morning\")\n",
    "if is_raining and is_cold:\n",
    "    print(\"Bring Umbrella and jacket\")\n",
    "else:\n",
    "    print(\"Umbrella is optional\")"
   ]
  },
  {
   "cell_type": "code",
   "execution_count": 11,
   "id": "edc9b14e",
   "metadata": {},
   "outputs": [
    {
     "name": "stdout",
     "output_type": "stream",
     "text": [
      "Good Morning\n",
      "Bring jacket\n"
     ]
    }
   ],
   "source": [
    "is_raining = False\n",
    "is_cold = True\n",
    "print(\"Good Morning\")\n",
    "if is_raining and is_cold:\n",
    "    print(\"Bring Umbrella and jacket\")\n",
    "else:\n",
    "   \n",
    "    print('Bring jacket')"
   ]
  },
  {
   "cell_type": "code",
   "execution_count": 12,
   "id": "bdf2348c",
   "metadata": {},
   "outputs": [
    {
     "name": "stdout",
     "output_type": "stream",
     "text": [
      "Good Morning\n",
      "Shirt is fine!\n"
     ]
    }
   ],
   "source": [
    "is_raining = False\n",
    "is_cold = False\n",
    "print(\"Good Morning\")\n",
    "if is_raining and is_cold:\n",
    "    print(\"Bring Umbrella and jacket\")\n",
    "elif is_raining and not(is_cold):\n",
    "    print(\"Bring Umbrella\")\n",
    "elif not(is_raining) and is_cold:\n",
    "    print(\"Bring Jacket\")\n",
    "else:\n",
    "    print(\"Shirt is fine!\")"
   ]
  },
  {
   "cell_type": "code",
   "execution_count": 13,
   "id": "ed582f68",
   "metadata": {},
   "outputs": [
    {
     "name": "stdout",
     "output_type": "stream",
     "text": [
      "Purchase approved\n"
     ]
    }
   ],
   "source": [
    "amount = 50\n",
    "if amount <= 50:\n",
    "    print(\"Purchase approved\")\n",
    "else:\n",
    "    print(\"Please enter your pin!\")"
   ]
  },
  {
   "cell_type": "code",
   "execution_count": 14,
   "id": "799f0859",
   "metadata": {},
   "outputs": [
    {
     "name": "stdout",
     "output_type": "stream",
     "text": [
      "Please enter your pin!\n"
     ]
    }
   ],
   "source": [
    "amount = 51\n",
    "if amount <= 50:\n",
    "    print(\"Purchase approved\")\n",
    "else:\n",
    "    print(\"Please enter your pin!\")"
   ]
  },
  {
   "cell_type": "code",
   "execution_count": null,
   "id": "1ac957f4",
   "metadata": {},
   "outputs": [],
   "source": [
    "\n",
    "# Create a calculator which handles +,-,*,/ and outputs answer based on the mode/ operator used\n",
    "# Hint: use 3 separate inputs \n",
    "# Bonus: Extend functionality with extra mode so it also does celsius to fahrenheit conversion\n",
    "# formula is: temp in C*9/5 + 32 = temp in f\n"
   ]
  }
 ],
 "metadata": {
  "kernelspec": {
   "display_name": "Python 3 (ipykernel)",
   "language": "python",
   "name": "python3"
  },
  "language_info": {
   "codemirror_mode": {
    "name": "ipython",
    "version": 3
   },
   "file_extension": ".py",
   "mimetype": "text/x-python",
   "name": "python",
   "nbconvert_exporter": "python",
   "pygments_lexer": "ipython3",
   "version": "3.9.7"
  }
 },
 "nbformat": 4,
 "nbformat_minor": 5
}
