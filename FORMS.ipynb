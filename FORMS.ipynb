{
 "cells": [
  {
   "cell_type": "markdown",
   "id": "46046027",
   "metadata": {},
   "source": [
    "# TO GET USER INPUT\n"
   ]
  },
  {
   "cell_type": "code",
   "execution_count": 1,
   "id": "bb8cf294",
   "metadata": {},
   "outputs": [
    {
     "name": "stdout",
     "output_type": "stream",
     "text": [
      "What is your name?: ERIC\n",
      "ERIC\n"
     ]
    }
   ],
   "source": [
    "name= input('What is your name?: ')\n",
    "print(name)"
   ]
  },
  {
   "cell_type": "code",
   "execution_count": null,
   "id": "2ef0a670",
   "metadata": {},
   "outputs": [],
   "source": [
    "name= input('What is your name?: ')"
   ]
  },
  {
   "cell_type": "code",
   "execution_count": null,
   "id": "94244322",
   "metadata": {},
   "outputs": [],
   "source": [
    "print(name)"
   ]
  },
  {
   "cell_type": "code",
   "execution_count": null,
   "id": "b3e07d4b",
   "metadata": {},
   "outputs": [],
   "source": [
    "name= input('What is your name?: ')\n",
    "print('Hello '+ name + '!')\n"
   ]
  },
  {
   "cell_type": "code",
   "execution_count": null,
   "id": "881e84eb",
   "metadata": {},
   "outputs": [],
   "source": [
    "name= input('What is your name?: ')\n",
    "age=input('What is your age?: ')\n",
    "print('Hello '+ name + '! You are '+ age + ' years old.')\n",
    "\n"
   ]
  },
  {
   "cell_type": "code",
   "execution_count": null,
   "id": "66cfb581",
   "metadata": {},
   "outputs": [],
   "source": [
    "st_name=Eric\n",
    "print('Hello ' + st_name)"
   ]
  },
  {
   "cell_type": "code",
   "execution_count": null,
   "id": "9c2db297",
   "metadata": {},
   "outputs": [],
   "source": []
  }
 ],
 "metadata": {
  "kernelspec": {
   "display_name": "Python 3 (ipykernel)",
   "language": "python",
   "name": "python3"
  },
  "language_info": {
   "codemirror_mode": {
    "name": "ipython",
    "version": 3
   },
   "file_extension": ".py",
   "mimetype": "text/x-python",
   "name": "python",
   "nbconvert_exporter": "python",
   "pygments_lexer": "ipython3",
   "version": "3.9.7"
  }
 },
 "nbformat": 4,
 "nbformat_minor": 5
}
