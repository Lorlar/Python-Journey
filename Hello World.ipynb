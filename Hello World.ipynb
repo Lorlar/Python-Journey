{
 "cells": [
  {
   "cell_type": "code",
   "execution_count": 2,
   "id": "2f44b934",
   "metadata": {},
   "outputs": [
    {
     "name": "stdout",
     "output_type": "stream",
     "text": [
      "Welcome to Python 101!\n"
     ]
    }
   ],
   "source": [
    "print('Welcome to Python 101!')"
   ]
  },
  {
   "cell_type": "code",
   "execution_count": 3,
   "id": "35431f05",
   "metadata": {},
   "outputs": [],
   "source": [
    "#Print Statement is to tell the computer to please print the statement in the quoatation mark"
   ]
  },
  {
   "cell_type": "code",
   "execution_count": 4,
   "id": "54377b37",
   "metadata": {},
   "outputs": [
    {
     "name": "stdout",
     "output_type": "stream",
     "text": [
      "Creat Hammer\n",
      "Use Hammer\n"
     ]
    }
   ],
   "source": [
    "print('Creat Hammer')\n",
    "print('Use Hammer')"
   ]
  },
  {
   "cell_type": "code",
   "execution_count": 6,
   "id": "84304ca6",
   "metadata": {},
   "outputs": [
    {
     "name": "stdout",
     "output_type": "stream",
     "text": [
      "Creat Hammer\n",
      "Creat Nails\n",
      "Use Hammer and Nails\n"
     ]
    }
   ],
   "source": [
    "print('Creat Hammer')\n",
    "print('Creat Nails')\n",
    "print('Use Hammer and Nails')"
   ]
  },
  {
   "cell_type": "code",
   "execution_count": null,
   "id": "22c37889",
   "metadata": {},
   "outputs": [],
   "source": [
    "#To assign variables, the = sign is not equals to but it is just used to assign variables \n",
    "'''Dear Mrs Badger\n",
    "›Your son Eric is failing 6 subjects.\n",
    "›Eric will need to redo 6 courses.\n",
    "›Eric is doing well in geography\n",
    "\n",
    "'''"
   ]
  },
  {
   "cell_type": "code",
   "execution_count": 1,
   "id": "db241262",
   "metadata": {
    "scrolled": true
   },
   "outputs": [
    {
     "name": "stdout",
     "output_type": "stream",
     "text": [
      "Dear Mrs Badger\n",
      "Your son John is failing 2 subjects.\n",
      "John  will need to redo 2  courses.\n",
      "John  is doing well in geography.\n"
     ]
    }
   ],
   "source": [
    "failed_subjects=\"2\"\n",
    "name='John'\n",
    "print('Dear Mrs Badger')\n",
    "print('Your son ' + name + ' is failing ' + failed_subjects + ' subjects.')\n",
    "print(name + '  will need to redo ' + failed_subjects + '  courses.')\n",
    "print(name + '  is doing well in geography.')"
   ]
  },
  {
   "cell_type": "code",
   "execution_count": 2,
   "id": "9c4cea1c",
   "metadata": {},
   "outputs": [
    {
     "name": "stdout",
     "output_type": "stream",
     "text": [
      "Dear Mrs Badger\n",
      "Your son Prince is failing 5 subjects.\n",
      "Prince  will need to redo 5  courses.\n",
      "Prince  is doing well in geography.\n"
     ]
    }
   ],
   "source": [
    "failed_subjects=\"5\"\n",
    "name='Prince'\n",
    "print('Dear Mrs Badger')\n",
    "print('Your son ' + name + ' is failing ' + failed_subjects + ' subjects.')\n",
    "print(name + '  will need to redo ' + failed_subjects + '  courses.')\n",
    "print(name + '  is doing well in geography.')"
   ]
  },
  {
   "cell_type": "code",
   "execution_count": null,
   "id": "92fb19fe",
   "metadata": {},
   "outputs": [],
   "source": []
  },
  {
   "cell_type": "code",
   "execution_count": null,
   "id": "f2da8548",
   "metadata": {},
   "outputs": [],
   "source": [
    "#Python is used to automate processes\n",
    "#Data types are 'String'(It can be recognised by its quotation mark), Integer (Numeric whole numbers),\n",
    "#Float(decimal) and Boolean(False or true) "
   ]
  },
  {
   "cell_type": "code",
   "execution_count": 4,
   "id": "70de2945",
   "metadata": {},
   "outputs": [],
   "source": [
    "a=\"it's\"\n",
    "b='it\\'s'  #\\ is used to show a ' between a word like it's  girl's etc"
   ]
  },
  {
   "cell_type": "code",
   "execution_count": 5,
   "id": "17b39268",
   "metadata": {},
   "outputs": [
    {
     "data": {
      "text/plain": [
       "str"
      ]
     },
     "execution_count": 5,
     "metadata": {},
     "output_type": "execute_result"
    }
   ],
   "source": [
    "#to know a datatype\n",
    "type(a)"
   ]
  },
  {
   "cell_type": "code",
   "execution_count": 6,
   "id": "18343db2",
   "metadata": {},
   "outputs": [
    {
     "name": "stdout",
     "output_type": "stream",
     "text": [
      "<class 'str'>\n",
      "<class 'int'>\n",
      "<class 'float'>\n",
      "<class 'bool'>\n"
     ]
    }
   ],
   "source": [
    "print(type(a))\n",
    "print(type(1))\n",
    "print(type(1.64))\n",
    "print(type(True))\n"
   ]
  },
  {
   "cell_type": "code",
   "execution_count": null,
   "id": "e5bd64af",
   "metadata": {},
   "outputs": [],
   "source": [
    "#you cant mix different datatypes or numbers anyhow you like, there is a way to do it\n",
    "#there are rules guiding it\n",
    "#you do typecasting\n",
    "#you can turn an integer into a string by str()  i.e. typing str and then encapsulating the character\n"
   ]
  },
  {
   "cell_type": "code",
   "execution_count": 8,
   "id": "90f3e65b",
   "metadata": {},
   "outputs": [
    {
     "name": "stdout",
     "output_type": "stream",
     "text": [
      "Dear Mrs Badger\n",
      "Your son Prince is failing 5 subjects.\n",
      "Prince  will need to redo 5  courses.\n",
      "Prince  is doing well in geography.\n"
     ]
    }
   ],
   "source": [
    "failed_subjects=5\n",
    "name='Prince'\n",
    "print('Dear Mrs Badger')\n",
    "print('Your son ' + name + ' is failing ' + str(failed_subjects) + ' subjects.')\n",
    "print(name + '  will need to redo ' + str(failed_subjects) + '  courses.')\n",
    "print(name + '  is doing well in geography.')\n",
    "#we have changed failed subject from integer to string"
   ]
  },
  {
   "cell_type": "code",
   "execution_count": 9,
   "id": "776bdd5c",
   "metadata": {},
   "outputs": [
    {
     "name": "stdout",
     "output_type": "stream",
     "text": [
      "[1, 2, 3, 3, 1.0, 2.5, 3.0, 4.23, '80s', '22', '3.01']\n"
     ]
    }
   ],
   "source": [
    "a = int(1)        # a will be 1\n",
    "b = int(2.5)      # b will be 2\n",
    "c = int(\"3\")      # c will be 3\n",
    "c1 = int(float(\"3.4\"))   # c1 will be...\n",
    "d = float(1)      # d will be 1.0\n",
    "e = float(2.5)    # e will be 2.5\n",
    "f = float(\"3\")    # f will be 3.0\n",
    "g = float(\"4.23\") # g will be 4.23\n",
    "h = str(\"80s\")    # h will be '80s'\n",
    "i = str(22)       # i will be '22'\n",
    "j = str(3.01)     # j will be '3.01'\n",
    "\n",
    "print([a,b,c,c1,d,e,f,g,h,i,j])"
   ]
  },
  {
   "cell_type": "code",
   "execution_count": null,
   "id": "0bf81b1a",
   "metadata": {},
   "outputs": [],
   "source": []
  }
 ],
 "metadata": {
  "kernelspec": {
   "display_name": "Python 3 (ipykernel)",
   "language": "python",
   "name": "python3"
  },
  "language_info": {
   "codemirror_mode": {
    "name": "ipython",
    "version": 3
   },
   "file_extension": ".py",
   "mimetype": "text/x-python",
   "name": "python",
   "nbconvert_exporter": "python",
   "pygments_lexer": "ipython3",
   "version": "3.9.7"
  }
 },
 "nbformat": 4,
 "nbformat_minor": 5
}
