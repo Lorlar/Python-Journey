{
 "cells": [
  {
   "cell_type": "code",
   "execution_count": null,
   "id": "fc91c662",
   "metadata": {},
   "outputs": [],
   "source": [
    "#FUNCTIONS ARE WAYS TO BIND TOGEDA CODES THAT YOU OFTEN USE TO MAKE IT EASY TO REUSE LATER\n",
    "#IT ALLOWS YOU TO SPLIT UP YOUR CODE SO THAT IT IS EASIER TO UNDERSTAND FOR U AND OTHERS\n",
    "#ALWAYS USE NAMES THAT YOU UNDERSTAND\n",
    "#ALWAYS DECLARE FUNCTION ABOVE B4 YOU USE IT\n",
    "#DEFINE IS USED ANYTIME WE WANT TO USE A FUNCTION I.E. DEF"
   ]
  },
  {
   "cell_type": "code",
   "execution_count": 3,
   "id": "8a3b5e16",
   "metadata": {},
   "outputs": [],
   "source": [
    "def greeting():\n",
    "    print('Hello Friend!')   #nothing happens bcos you have to call a function to use it"
   ]
  },
  {
   "cell_type": "code",
   "execution_count": 4,
   "id": "1110673c",
   "metadata": {},
   "outputs": [
    {
     "name": "stdout",
     "output_type": "stream",
     "text": [
      "Hello Friend!\n"
     ]
    }
   ],
   "source": [
    "greeting()"
   ]
  },
  {
   "cell_type": "code",
   "execution_count": 5,
   "id": "b84b860d",
   "metadata": {},
   "outputs": [
    {
     "name": "stdout",
     "output_type": "stream",
     "text": [
      "Hello Brian!\n"
     ]
    }
   ],
   "source": [
    "def greeting(name):\n",
    "    print(\"Hello \" + name + \"!\")\n",
    "    \n",
    "greeting(\"Brian\")"
   ]
  },
  {
   "cell_type": "code",
   "execution_count": 6,
   "id": "7a63d817",
   "metadata": {},
   "outputs": [
    {
     "name": "stdout",
     "output_type": "stream",
     "text": [
      "Hello Tope!\n"
     ]
    }
   ],
   "source": [
    "greeting(\"Tope\")"
   ]
  },
  {
   "cell_type": "code",
   "execution_count": 9,
   "id": "a91f7003",
   "metadata": {},
   "outputs": [
    {
     "name": "stdout",
     "output_type": "stream",
     "text": [
      "Hello Brian, you are 32!\n"
     ]
    }
   ],
   "source": [
    "def greeting(name,age):\n",
    "    print(\"Hello \" + name + \", you are \" + age + \"!\")\n",
    "    \n",
    "greeting(\"Brian\",\"32\")    #this can be used to send messages to bank customers on their birthday...."
   ]
  },
  {
   "cell_type": "code",
   "execution_count": 10,
   "id": "6a550891",
   "metadata": {},
   "outputs": [
    {
     "name": "stdout",
     "output_type": "stream",
     "text": [
      "Hello Brian, you are 32!\n",
      "Hello Brian, you are 32!\n"
     ]
    }
   ],
   "source": [
    "def greeting(name,age):  \n",
    "    print(\"Hello \" + name + \", you are \" + age + \"!\")\n",
    "    print(f\"Hello {name}, you are {age}!\")  #use another method\n",
    "     \n",
    "greeting(\"Brian\",\"32\")"
   ]
  },
  {
   "cell_type": "code",
   "execution_count": 11,
   "id": "35af4593",
   "metadata": {},
   "outputs": [
    {
     "name": "stdout",
     "output_type": "stream",
     "text": [
      "Hello Brian, you are 32!\n",
      "Hello Brian, you are 32!\n",
      "Hello Judith, you are 28!\n",
      "Hello Judith, you are 28!\n"
     ]
    }
   ],
   "source": [
    "def greeting(name,age=\"28\"):\n",
    "    print(\"Hello \" + name + \", you are \" + age + \"!\")\n",
    "    print(f\"Hello {name}, you are {age}!\")\n",
    "    \n",
    "greeting(\"Brian\",\"32\")\n",
    "greeting(\"Judith\")"
   ]
  },
  {
   "cell_type": "code",
   "execution_count": 13,
   "id": "4edaf2f8",
   "metadata": {},
   "outputs": [
    {
     "name": "stdout",
     "output_type": "stream",
     "text": [
      "Enter your name: Omolola\n",
      "Hello Omolola, you are 32!\n",
      "Hello Omolola, you are 32!\n",
      "Hello Judith, you are 28!\n",
      "Hello Judith, you are 28!\n"
     ]
    }
   ],
   "source": [
    "def greeting(name,age=\"28\"):\n",
    "    print(\"Hello \" + name + \", you are \" + age + \"!\")\n",
    "    print(f\"Hello {name}, you are {age}!\")\n",
    "\n",
    "name = input(\"Enter your name: \")    \n",
    "greeting(name,\"32\")\n",
    "greeting(\"Judith\")"
   ]
  },
  {
   "cell_type": "code",
   "execution_count": 15,
   "id": "08690ac8",
   "metadata": {},
   "outputs": [
    {
     "name": "stdout",
     "output_type": "stream",
     "text": [
      "Enter your name: Helen\n",
      "Hello Helen, you are 32!\n",
      "Hello Helen, you are 32!\n",
      "Hello Judith, you are 28!\n",
      "Hello Judith, you are 28!\n"
     ]
    }
   ],
   "source": [
    "def greeting(name,age=28):\n",
    "    print(\"Hello \" + name + \", you are \" + str(age) + \"!\")  # we converted string to integer\n",
    "    print(f\"Hello {name}, you are {age}!\")#formated strings dont need to change from one datatype tp another\n",
    "\n",
    "name = input(\"Enter your name: \")    \n",
    "greeting(name,32)\n",
    "greeting(\"Judith\")"
   ]
  },
  {
   "cell_type": "code",
   "execution_count": null,
   "id": "7afd03b4",
   "metadata": {},
   "outputs": [],
   "source": []
  }
 ],
 "metadata": {
  "kernelspec": {
   "display_name": "Python 3 (ipykernel)",
   "language": "python",
   "name": "python3"
  },
  "language_info": {
   "codemirror_mode": {
    "name": "ipython",
    "version": 3
   },
   "file_extension": ".py",
   "mimetype": "text/x-python",
   "name": "python",
   "nbconvert_exporter": "python",
   "pygments_lexer": "ipython3",
   "version": "3.9.7"
  }
 },
 "nbformat": 4,
 "nbformat_minor": 5
}
