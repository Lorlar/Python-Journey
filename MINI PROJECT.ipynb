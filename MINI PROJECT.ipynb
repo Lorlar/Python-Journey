{
 "cells": [
  {
   "cell_type": "markdown",
   "id": "c2644d88",
   "metadata": {},
   "source": [
    "# Mini project\n"
   ]
  },
  {
   "cell_type": "code",
   "execution_count": 4,
   "id": "bb6dcd8b",
   "metadata": {},
   "outputs": [
    {
     "name": "stdout",
     "output_type": "stream",
     "text": [
      "[12, 4, 26, 10, 7, 28, 15]\n",
      "[7, 3, 42, 19, 15, 35, 9, 12, 4, 26, 10, 7, 28, 15]\n",
      "[7, 3, 42, 19, 15, 35, 9, 12, 4, 26, 10, 7, 28, 15]\n"
     ]
    }
   ],
   "source": [
    "sales_w1 = [7,3,42,19,15,35,9]\n",
    "sales_w2 = [12,4,26,10,7,28]\n",
    "sales = [7, 3, 42, 19, 15, 35, 9, 12, 4, 26, 10, 7, 28, 15]\n",
    "sales_w2.append(15)\n",
    "print(sales_w2)\n",
    "sales_w1.extend(sales_w2)\n",
    "print(sales_w1)\n",
    "print(sales)"
   ]
  },
  {
   "cell_type": "code",
   "execution_count": null,
   "id": "b062d0dc",
   "metadata": {},
   "outputs": [],
   "source": [
    "distance_mi = float(distance_km)/1."
   ]
  },
  {
   "cell_type": "code",
   "execution_count": 14,
   "id": "fb2599a5",
   "metadata": {},
   "outputs": [
    {
     "ename": "TypeError",
     "evalue": "can't multiply sequence by non-int of type 'float'",
     "output_type": "error",
     "traceback": [
      "\u001b[1;31m---------------------------------------------------------------------------\u001b[0m",
      "\u001b[1;31mTypeError\u001b[0m                                 Traceback (most recent call last)",
      "\u001b[1;32m~\\AppData\\Local\\Temp/ipykernel_7068/3042067653.py\u001b[0m in \u001b[0;36m<module>\u001b[1;34m\u001b[0m\n\u001b[0;32m      1\u001b[0m \u001b[0msales\u001b[0m \u001b[1;33m=\u001b[0m \u001b[1;33m[\u001b[0m\u001b[1;36m7\u001b[0m\u001b[1;33m,\u001b[0m \u001b[1;36m3\u001b[0m\u001b[1;33m,\u001b[0m \u001b[1;36m42\u001b[0m\u001b[1;33m,\u001b[0m \u001b[1;36m19\u001b[0m\u001b[1;33m,\u001b[0m \u001b[1;36m15\u001b[0m\u001b[1;33m,\u001b[0m \u001b[1;36m35\u001b[0m\u001b[1;33m,\u001b[0m \u001b[1;36m9\u001b[0m\u001b[1;33m,\u001b[0m \u001b[1;36m12\u001b[0m\u001b[1;33m,\u001b[0m \u001b[1;36m4\u001b[0m\u001b[1;33m,\u001b[0m \u001b[1;36m26\u001b[0m\u001b[1;33m,\u001b[0m \u001b[1;36m10\u001b[0m\u001b[1;33m,\u001b[0m \u001b[1;36m7\u001b[0m\u001b[1;33m,\u001b[0m \u001b[1;36m28\u001b[0m\u001b[1;33m,\u001b[0m \u001b[1;36m15\u001b[0m\u001b[1;33m]\u001b[0m\u001b[1;33m\u001b[0m\u001b[1;33m\u001b[0m\u001b[0m\n\u001b[1;32m----> 2\u001b[1;33m \u001b[0mprofit\u001b[0m\u001b[1;33m=\u001b[0m\u001b[0msales\u001b[0m\u001b[1;33m*\u001b[0m\u001b[1;36m1.5\u001b[0m\u001b[1;33m\u001b[0m\u001b[1;33m\u001b[0m\u001b[0m\n\u001b[0m\u001b[0;32m      3\u001b[0m \u001b[0mprint\u001b[0m\u001b[1;33m(\u001b[0m\u001b[0mprofit\u001b[0m\u001b[1;33m)\u001b[0m\u001b[1;33m\u001b[0m\u001b[1;33m\u001b[0m\u001b[0m\n",
      "\u001b[1;31mTypeError\u001b[0m: can't multiply sequence by non-int of type 'float'"
     ]
    }
   ],
   "source": [
    "sales = [7, 3, 42, 19, 15, 35, 9, 12, 4, 26, 10, 7, 28, 15]\n",
    "profit=sales*1.5\n",
    "print(profit)"
   ]
  },
  {
   "cell_type": "code",
   "execution_count": null,
   "id": "81ae3fc4",
   "metadata": {},
   "outputs": [],
   "source": [
    "sales_w1 = [7,3,42,19,15,35,9]\n",
    "sales_w2 = [12,4,26,10,7,28]\n",
    "sales = []\n",
    "new_day = input('Enter #of lemonades for new day: ')\n",
    "sales_w2.append(int(new_day)) #to convert new day to integer"
   ]
  },
  {
   "cell_type": "code",
   "execution_count": null,
   "id": "fbae905b",
   "metadata": {},
   "outputs": [],
   "source": []
  },
  {
   "cell_type": "code",
   "execution_count": 15,
   "id": "3e21abaf",
   "metadata": {},
   "outputs": [
    {
     "name": "stdout",
     "output_type": "stream",
     "text": [
      "Enter #of lemonades for new day: 15\n",
      "Worst day profit:$ 4.5\n",
      "Best day profit:$ 63.0\n",
      "Combined profit:$ 67.5\n"
     ]
    }
   ],
   "source": [
    "sales_w1 = [7,3,42,19,15,35,9]\n",
    "sales_w2 = [12,4,26,10,7,28]\n",
    "sales = []\n",
    "new_day = input('Enter #of lemonades for new day: ')\n",
    "sales_w2.append(int(new_day))\n",
    "sales.extend(sales_w1)\n",
    "sales.extend(sales_w2)\n",
    "#sales = sales_w1 + sales_w2\n",
    "sales.sort()\n",
    "worst_day_prof = sales[0] * 1.5\n",
    "best_day_prof = sales[-1] * 1.5\n",
    "print(f'Worst day profit:$ {worst_day_prof}')\n",
    "print(f'Best day profit:$ {best_day_prof}')\n",
    "print(f'Combined profit:$ {worst_day_prof + best_day_prof}')"
   ]
  },
  {
   "cell_type": "markdown",
   "id": "3cf33ada",
   "metadata": {},
   "source": [
    "# SPLIT AND JOIN"
   ]
  },
  {
   "cell_type": "code",
   "execution_count": 16,
   "id": "d7a45ed9",
   "metadata": {},
   "outputs": [
    {
     "name": "stdout",
     "output_type": "stream",
     "text": [
      "['W', 'e', 'l', 'c', 'o', 'm', 'e', ' ', 't', 'o', ' ', 'P', 'y', 't', 'h', 'o', 'n', ' ', '1', '0', '1', ':', ' ', 'S', 'p', 'l', 'i', 't', ' ', 'a', 'n', 'd', ' ', 'J', 'o', 'i', 'n']\n"
     ]
    }
   ],
   "source": [
    "msg ='Welcome to Python 101: Split and Join'\n",
    "csv = 'Eric,John,Michael,Terry,Graham'\n",
    "friends_list = ['Eric','John','Michael','Terry','Graham']\n",
    "print(list(msg))"
   ]
  },
  {
   "cell_type": "code",
   "execution_count": 17,
   "id": "54f4d1e2",
   "metadata": {},
   "outputs": [
    {
     "name": "stdout",
     "output_type": "stream",
     "text": [
      "['Welcome', 'to', 'Python', '101:', 'Split', 'and', 'Join']\n"
     ]
    }
   ],
   "source": [
    "msg ='Welcome to Python 101: Split and Join'\n",
    "csv = 'Eric,John,Michael,Terry,Graham'\n",
    "friends_list = ['Eric','John','Michael','Terry','Graham']\n",
    "print(msg.split())"
   ]
  },
  {
   "cell_type": "code",
   "execution_count": 18,
   "id": "3a99ce19",
   "metadata": {},
   "outputs": [
    {
     "name": "stdout",
     "output_type": "stream",
     "text": [
      "['Welcome', 'to', 'Python', '101:', 'Split', 'and', 'Join']\n",
      "['Welcome', 'to', 'Python', '101:', 'Split', 'and', 'Join']\n"
     ]
    }
   ],
   "source": [
    "msg ='Welcome to Python 101: Split and Join'\n",
    "csv = 'Eric,John,Michael,Terry,Graham'\n",
    "friends_list = ['Eric','John','Michael','Terry','Graham']\n",
    "print(msg.split())\n",
    "print(msg.split(' '))\n",
    "#WHEN WE SPLIT, WE CREATE A LIST"
   ]
  },
  {
   "cell_type": "code",
   "execution_count": 19,
   "id": "00542549",
   "metadata": {},
   "outputs": [
    {
     "name": "stdout",
     "output_type": "stream",
     "text": [
      "['Eric', 'John', 'Michael', 'Terry', 'Graham']\n"
     ]
    }
   ],
   "source": [
    "msg ='Welcome  to  Python  101: Split  and Join'\n",
    "csv = 'Eric,John,Michael,Terry,Graham'\n",
    "friends_list = ['Eric','John','Michael','Terry','Graham']\n",
    "print(csv.split(','))"
   ]
  },
  {
   "cell_type": "code",
   "execution_count": 20,
   "id": "3b579df2",
   "metadata": {},
   "outputs": [
    {
     "name": "stdout",
     "output_type": "stream",
     "text": [
      "['Eric', 'John', 'Michael', 'Terry', 'Graham']\n"
     ]
    }
   ],
   "source": [
    "msg ='Welcome  to  Python  101: Split  and Join'\n",
    "csv = 'Eric,John,Michael,Terry,Graham'\n",
    "friends_list = ['Eric','John','Michael','Terry','Graham']\n",
    "print(str(friends_list))\n"
   ]
  },
  {
   "cell_type": "code",
   "execution_count": 23,
   "id": "77ed0f1d",
   "metadata": {},
   "outputs": [
    {
     "name": "stdout",
     "output_type": "stream",
     "text": [
      "['Eric', 'John', 'Michael', 'Terry', 'Graham']\n"
     ]
    }
   ],
   "source": [
    "#TURNING STRING INTO LIST\n",
    "msg ='Welcome  to  Python  101: Split  and Join'\n",
    "csv = 'Eric,John,Michael,Terry,Graham'\n",
    "friends_list = ['Eric','John','Michael','Terry','Graham']\n",
    "print(csv.split(','))"
   ]
  },
  {
   "cell_type": "code",
   "execution_count": 24,
   "id": "0913dfb6",
   "metadata": {},
   "outputs": [
    {
     "name": "stdout",
     "output_type": "stream",
     "text": [
      "Eric-John-Michael-Terry-Graham\n"
     ]
    }
   ],
   "source": [
    "msg ='Welcome  to  Python  101: Split  and Join'\n",
    "csv = 'Eric,John,Michael,Terry,Graham'\n",
    "friends_list = ['Eric','John','Michael','Terry','Graham']\n",
    "print('-'.join(friends_list))"
   ]
  },
  {
   "cell_type": "code",
   "execution_count": 25,
   "id": "014b2271",
   "metadata": {},
   "outputs": [
    {
     "name": "stdout",
     "output_type": "stream",
     "text": [
      "EricJohnMichaelTerryGraham\n"
     ]
    }
   ],
   "source": [
    "msg ='Welcome  to  Python  101: Split  and Join'\n",
    "csv = 'Eric,John,Michael,Terry,Graham'\n",
    "friends_list = ['Eric','John','Michael','Terry','Graham']\n",
    "print(''.join(friends_list))\n"
   ]
  },
  {
   "cell_type": "code",
   "execution_count": 26,
   "id": "a80bd90d",
   "metadata": {},
   "outputs": [
    {
     "name": "stdout",
     "output_type": "stream",
     "text": [
      "EricJohnMichaelTerryGraham\n",
      "WelcometoPython101:SplitandJoin\n",
      "WelcometoPython101:SplitandJoin\n"
     ]
    }
   ],
   "source": [
    "msg ='Welcome  to  Python  101: Split  and Join'\n",
    "csv = 'Eric,John,Michael,Terry,Graham'\n",
    "friends_list = ['Eric','John','Michael','Terry','Graham']\n",
    "print(''.join(friends_list))\n",
    "\n",
    "print(''.join(msg.split()))\n",
    "print(msg.replace(' ', ''))"
   ]
  },
  {
   "cell_type": "markdown",
   "id": "48a4dbcc",
   "metadata": {},
   "source": [
    "# PROJECT"
   ]
  },
  {
   "cell_type": "code",
   "execution_count": 27,
   "id": "d6247a95",
   "metadata": {},
   "outputs": [
    {
     "name": "stdout",
     "output_type": "stream",
     "text": [
      "['Exercise: fill me with names']\n"
     ]
    }
   ],
   "source": [
    "\n",
    "csv = 'Eric,John,Michael,Terry,Graham:TerryG;Brian'\n",
    "\n",
    "friends_list = ['Exercise: fill me with names']\n",
    "print(friends_list)\n",
    "# From the list above fill a list(friends_list) properly\n",
    "# with the names of all the friends. One per \"slot\"\n",
    "# you may need to run same command several times\n",
    "# use print() statements to work your way through the exercise\n"
   ]
  },
  {
   "cell_type": "code",
   "execution_count": 28,
   "id": "076af540",
   "metadata": {},
   "outputs": [
    {
     "name": "stdout",
     "output_type": "stream",
     "text": [
      "Eric,John,Michael,Terry,Graham:TerryG,Brian\n",
      "Eric,John,Michael,Terry,Graham:TerryG,Brian\n",
      "['Exercise: fill me with names']\n"
     ]
    }
   ],
   "source": [
    "csv = 'Eric,John,Michael,Terry,Graham:TerryG;Brian'\n",
    "print(','.join(csv.split(';')))\n",
    "print(','.join(csv.split(';')))\n",
    "friends_list = ['Exercise: fill me with names']\n",
    "print(friends_list)\n",
    "# From the list above fill a list(friends_list) properly\n",
    "# with the names of all the friends. One per \"slot\"\n",
    "# you may need to run same command several times\n",
    "# use print() statements to work your way through the exercise\n"
   ]
  },
  {
   "cell_type": "code",
   "execution_count": 29,
   "id": "55a0deb9",
   "metadata": {},
   "outputs": [
    {
     "name": "stdout",
     "output_type": "stream",
     "text": [
      "Eric,John,Michael,Terry,Graham:TerryG,Brian\n",
      "['Eric,John,Michael,Terry,Graham', 'TerryG,Brian']\n",
      "Eric,John,Michael,Terry,Graham,TerryG,Brian\n",
      "['Exercise: fill me with names']\n"
     ]
    }
   ],
   "source": [
    "csv = 'Eric,John,Michael,Terry,Graham:TerryG;Brian'\n",
    "print(','.join(csv.split(';')))\n",
    "print(','.join(csv.split(';')).split(':'))\n",
    "print(','.join(','.join(csv.split(';')).split(':')))\n",
    "friends_list = ['Exercise: fill me with names']\n",
    "print(friends_list)"
   ]
  },
  {
   "cell_type": "code",
   "execution_count": 30,
   "id": "cc296fb1",
   "metadata": {},
   "outputs": [
    {
     "name": "stdout",
     "output_type": "stream",
     "text": [
      "['John', 'Michael', 'Terry', 'Eric', 'Graham']\n"
     ]
    }
   ],
   "source": [
    "#Tuples - faster Lists you can't change\n",
    "friends = ['John','Michael','Terry','Eric','Graham']\n",
    "\n",
    "print(friends)"
   ]
  },
  {
   "cell_type": "code",
   "execution_count": 31,
   "id": "29940e17",
   "metadata": {},
   "outputs": [
    {
     "name": "stdout",
     "output_type": "stream",
     "text": [
      "['John', 'Michael', 'Terry', 'Eric', 'Graham']\n",
      "('John', 'Michael', 'Terry', 'Eric', 'Graham')\n"
     ]
    }
   ],
   "source": [
    "#Tuples - faster Lists you can't change\n",
    "friends = ['John','Michael','Terry','Eric','Graham']\n",
    "friends_tuple = ('John','Michael','Terry','Eric','Graham')\n",
    "print(friends)\n",
    "print(friends_tuple)\n",
    "#TUPLES ARE IN NORMAL BRACKET"
   ]
  },
  {
   "cell_type": "code",
   "execution_count": 32,
   "id": "b059d0a0",
   "metadata": {},
   "outputs": [
    {
     "name": "stdout",
     "output_type": "stream",
     "text": [
      "Terry\n",
      "Terry\n"
     ]
    }
   ],
   "source": [
    "#Tuples - faster Lists you can't change\n",
    "friends = ['John','Michael','Terry','Eric','Graham']\n",
    "friends_tuple = ('John','Michael','Terry','Eric','Graham')\n",
    "print(friends[2])\n",
    "print(friends_tuple[2])\n"
   ]
  },
  {
   "cell_type": "code",
   "execution_count": 33,
   "id": "92e11e24",
   "metadata": {},
   "outputs": [
    {
     "name": "stdout",
     "output_type": "stream",
     "text": [
      "['Terry', 'Eric']\n",
      "('Terry', 'Eric')\n"
     ]
    }
   ],
   "source": [
    "#Tuples - faster Lists you can't change\n",
    "friends = ['John','Michael','Terry','Eric','Graham']\n",
    "friends_tuple = ('John','Michael','Terry','Eric','Graham')\n",
    "print(friends[2:4])\n",
    "print(friends_tuple[2:4])\n",
    "#WE CAN SLICE\n",
    "#TUPLES ARE IMMUTABLE"
   ]
  },
  {
   "cell_type": "code",
   "execution_count": 34,
   "id": "91d2bb76",
   "metadata": {},
   "outputs": [
    {
     "name": "stdout",
     "output_type": "stream",
     "text": [
      "['John', 'Michael', 'Terry', 'Eric', 'Graham']\n",
      "('John', 'Michael', 'Terry', 'Eric', 'Graham')\n",
      "{'Michael', 'Eric', 'John', 'Terry', 'Graham'}\n"
     ]
    }
   ],
   "source": [
    "#SETS\n",
    "#Sets - blazingly fast unordered Lists \n",
    "friends = ['John','Michael','Terry','Eric','Graham']\n",
    "friends_tuple = ('John','Michael','Terry','Eric','Graham')\n",
    "friends_set = {'John','Michael','Terry','Eric','Graham','Eric'}\n",
    "print(friends)\n",
    "print(friends_tuple)\n",
    "print(friends_set)\n",
    "#SETS ARE UNORDERED AND ALSO REMOVE DUPLICATE DATA, IT IS EASIER TO FIND MEMBERS IN A SET THAN A LIST\n",
    "#FROM THE MEMBERS ABOVE, IT HAS REMOVED DUPLICATE MEMBERS"
   ]
  },
  {
   "cell_type": "code",
   "execution_count": 37,
   "id": "4692d535",
   "metadata": {},
   "outputs": [
    {
     "name": "stdout",
     "output_type": "stream",
     "text": [
      "{'Graham', 'Eric'}\n",
      "{'John', 'Terry', 'Michael'}\n",
      "{'Colin', 'Reg', 'Terry', 'Loretta', 'Michael', 'Eric', 'John', 'Graham'}\n"
     ]
    }
   ],
   "source": [
    "#Sets - blazingly fast unordered Lists \n",
    "friends = ['John','Michael','Terry','Eric','Graham']\n",
    "friends_tuple = ('John','Michael','Terry','Eric','Graham')\n",
    "friends_set = {'John','Michael','Terry','Eric','Graham','Eric'}\n",
    "my_friends_set = {'Reg','Loretta','Colin','Eric','Graham'}\n",
    "\n",
    "print(friends_set.intersection(my_friends_set))  #PRINTS MEMBERS THAT APPREAR IN BOTH SET\n",
    "print(friends_set.difference(my_friends_set)) #PRINT THE MEMBERS NOT IN BOTH\n",
    "print(friends_set.union(my_friends_set)) #COMBINE BOTH SET"
   ]
  },
  {
   "cell_type": "code",
   "execution_count": null,
   "id": "b49b1d1e",
   "metadata": {},
   "outputs": [],
   "source": [
    "print(friends_set.difference(my_friends_set))"
   ]
  },
  {
   "cell_type": "code",
   "execution_count": null,
   "id": "11597bc5",
   "metadata": {},
   "outputs": [],
   "source": [
    "#Sets - blazingly fast unordered Lists \n",
    "#empty Lists\n",
    "empty_list = []\n",
    "empyt_list = list()\n",
    "\n",
    "#empty Tuple\n",
    "empty_tuple = ()\n",
    "empty_tuple = tuple()\n",
    "\n",
    "#empty Set\n",
    "empty_set = {} # this is wrong, this is a dictionary\n",
    "empty_set = set()"
   ]
  },
  {
   "cell_type": "code",
   "execution_count": null,
   "id": "6e338473",
   "metadata": {},
   "outputs": [],
   "source": [
    "#Sets - Exercise\n",
    "\n",
    "#1. Check if ‘Eric’ and ‘John’ exist in friends\n",
    "#2. combine or add the two sets \n",
    "#3. Find names that are in both sets\n",
    "#4. find names that are only in friends\n",
    "#5. Show only the names who only appear in one of the lists\n",
    "#6. Create a new cars-list without duplicates\n",
    "\n",
    "friends = {'John','Michael','Terry','Eric','Graham'}\n",
    "my_friends = {'Reg','Loretta','Colin','John','Graham'}\n",
    "cars =['900','420','V70','911','996','V90','911','911','S','328','900']"
   ]
  },
  {
   "cell_type": "code",
   "execution_count": 45,
   "id": "20923fa8",
   "metadata": {},
   "outputs": [
    {
     "name": "stdout",
     "output_type": "stream",
     "text": [
      "True\n",
      "True\n",
      "{'John', 'Graham'}\n",
      "{'Colin', 'Reg', 'Terry', 'Loretta', 'Michael', 'Eric', 'John', 'Graham'}\n",
      "{'John', 'Terry', 'Michael'}\n",
      "{'Michael', 'Eric', 'John', 'Terry', 'Graham'}\n",
      "{'V70', '996', 'V90', 'S', '900', '420', '328', '911'}\n"
     ]
    }
   ],
   "source": [
    "friends = {'John','Michael','Terry','Eric','Graham'}\n",
    "my_friends = {'Reg','Loretta','Colin','John','Graham'}\n",
    "cars =['900','420','V70','911','996','V90','911','911','S','328','900']\n",
    "print('Eric' in friends)\n",
    "\n",
    "print('Eric' in friends and 'John' in friends)\n",
    "print(friends.intersection(my_friends))\n",
    "print(friends.union(my_friends))\n",
    "print(friends_set.difference(my_friends_set))\n",
    "print(friends)\n",
    "cars_new={'900','420','V70','911','996','V90','911','911','S','328','900'}\n",
    "print(cars_new)"
   ]
  },
  {
   "cell_type": "code",
   "execution_count": 46,
   "id": "223f1255",
   "metadata": {},
   "outputs": [
    {
     "name": "stdout",
     "output_type": "stream",
     "text": [
      "True\n",
      "{'Colin', 'Reg', 'Terry', 'Loretta', 'Michael', 'Eric', 'John', 'Graham'}\n",
      "{'Colin', 'Reg', 'Terry', 'Loretta', 'Michael', 'Eric', 'John', 'Graham'}\n"
     ]
    }
   ],
   "source": [
    "#solution from scrimba\n",
    "friends = {'John','Michael','Terry','Eric','Graham'}\n",
    "my_friends = {'Reg','Loretta','Colin','John','Graham'}\n",
    "cars =['900','420','V70','911','996','V90','911','911','S','328','900']\n",
    "\n",
    "print('Eric' in friends and 'John' in friends)\n",
    "print(friends.union(my_friends))\n",
    "print(friends | my_friends)"
   ]
  },
  {
   "cell_type": "code",
   "execution_count": 48,
   "id": "30e53be7",
   "metadata": {},
   "outputs": [
    {
     "name": "stdout",
     "output_type": "stream",
     "text": [
      "True\n",
      "{'John', 'Graham'}\n",
      "{'John', 'Graham'}\n"
     ]
    }
   ],
   "source": [
    "friends = {'John','Michael','Terry','Eric','Graham'}\n",
    "my_friends = {'Reg','Loretta','Colin','John','Graham'}\n",
    "cars =['900','420','V70','911','996','V90','911','911','S','328','900']\n",
    "\n",
    "print('Eric' in friends and 'John' in friends)\n",
    "print(friends.intersection(my_friends))\n",
    "print(friends & my_friends)"
   ]
  },
  {
   "cell_type": "code",
   "execution_count": 49,
   "id": "e63b6447",
   "metadata": {},
   "outputs": [
    {
     "name": "stdout",
     "output_type": "stream",
     "text": [
      "True\n",
      "{'Eric', 'Terry', 'Michael'}\n",
      "{'Eric', 'Terry', 'Michael'}\n"
     ]
    }
   ],
   "source": [
    "friends = {'John','Michael','Terry','Eric','Graham'}\n",
    "my_friends = {'Reg','Loretta','Colin','John','Graham'}\n",
    "cars =['900','420','V70','911','996','V90','911','911','S','328','900']\n",
    "#number 4\n",
    "print('Eric' in friends and 'John' in friends)\n",
    "print(friends.difference(my_friends))  # use this or the syntax below\n",
    "print(friends - my_friends)"
   ]
  },
  {
   "cell_type": "code",
   "execution_count": 50,
   "id": "6df5fed9",
   "metadata": {},
   "outputs": [
    {
     "name": "stdout",
     "output_type": "stream",
     "text": [
      "True\n",
      "{'Michael', 'Loretta', 'Colin', 'Reg', 'Eric', 'Terry'}\n",
      "{'Michael', 'Loretta', 'Colin', 'Reg', 'Eric', 'Terry'}\n"
     ]
    }
   ],
   "source": [
    "#no 5\n",
    "friends = {'John','Michael','Terry','Eric','Graham'}\n",
    "my_friends = {'Reg','Loretta','Colin','John','Graham'}\n",
    "cars =['900','420','V70','911','996','V90','911','911','S','328','900']\n",
    "\n",
    "print('Eric' in friends and 'John' in friends)\n",
    "print(my_friends.symmetric_difference(friends))\n",
    "print(my_friends ^ friends)"
   ]
  },
  {
   "cell_type": "code",
   "execution_count": 51,
   "id": "ee85a4da",
   "metadata": {},
   "outputs": [
    {
     "name": "stdout",
     "output_type": "stream",
     "text": [
      "{'V70', '996', 'V90', 'S', '900', '420', '328', '911'}\n"
     ]
    }
   ],
   "source": [
    "cars =['900','420','V70','911','996','V90','911','911','S','328','900']\n",
    "cars_no_dupl =set(cars)  #to turn list inti set\n",
    "\n",
    "print(cars_no_dupl)"
   ]
  },
  {
   "cell_type": "code",
   "execution_count": 52,
   "id": "7260400e",
   "metadata": {},
   "outputs": [
    {
     "name": "stdout",
     "output_type": "stream",
     "text": [
      "['V70', '996', 'V90', 'S', '900', '420', '328', '911']\n"
     ]
    }
   ],
   "source": [
    "cars_no_dupl =list(set(cars)) #turn it back into a list\n",
    "print(cars_no_dupl)"
   ]
  },
  {
   "cell_type": "code",
   "execution_count": 53,
   "id": "98d7daa5",
   "metadata": {},
   "outputs": [
    {
     "data": {
      "text/plain": [
       "'Comments are text in the code that python just ignores, it is mainly for communication between humans.\\nReasons y we write comment\\n1.\\t  Writing notes to other humans abt d code so dt they can keep track of what it does , how you were thinking when you built  it and maybe even a to do list to yourself on what needs to be done on the code.\\n2.\\tIs mainly for debugging or texting where you can disable  lines of code to know what is working and what is not working’’’\\n3.\\tJust to keep documentation\\nThe ash is a message to python saying DON’T TOUCH, IT IS FOR HIDING INFORMATION\\n\\n'"
      ]
     },
     "execution_count": 53,
     "metadata": {},
     "output_type": "execute_result"
    }
   ],
   "source": [
    "'''Comments are text in the code that python just ignores, it is mainly for communication between humans.\n",
    "Reasons y we write comment\n",
    "1.\t  Writing notes to other humans abt d code so dt they can keep track of what it does , how you were thinking when you built  it and maybe even a to do list to yourself on what needs to be done on the code.\n",
    "2.\tIs mainly for debugging or texting where you can disable  lines of code to know what is working and what is not working’’’\n",
    "3.\tJust to keep documentation\n",
    "The ash is a message to python saying DON’T TOUCH, IT IS FOR HIDING INFORMATION\n",
    "\n",
    "'''\n"
   ]
  },
  {
   "cell_type": "code",
   "execution_count": null,
   "id": "10e63fb8",
   "metadata": {},
   "outputs": [],
   "source": [
    "#FUNCTIONS.. DEF MEANS DEFINE. AND EVERYTHING AFTER DEF IS A FUNCTION\n",
    "def greeting():\n",
    "print(\"Hello Function\")"
   ]
  }
 ],
 "metadata": {
  "kernelspec": {
   "display_name": "Python 3 (ipykernel)",
   "language": "python",
   "name": "python3"
  },
  "language_info": {
   "codemirror_mode": {
    "name": "ipython",
    "version": 3
   },
   "file_extension": ".py",
   "mimetype": "text/x-python",
   "name": "python",
   "nbconvert_exporter": "python",
   "pygments_lexer": "ipython3",
   "version": "3.9.7"
  }
 },
 "nbformat": 4,
 "nbformat_minor": 5
}
