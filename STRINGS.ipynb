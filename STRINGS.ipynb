{
 "cells": [
  {
   "cell_type": "code",
   "execution_count": 1,
   "id": "e5e6126c",
   "metadata": {},
   "outputs": [
    {
     "name": "stdout",
     "output_type": "stream",
     "text": [
      "welcome to Python 101: Stringswelcome to Python 101: Strings\n"
     ]
    }
   ],
   "source": [
    "msg='welcome to Python 101: Strings'\n",
    "print(msg+msg)"
   ]
  },
  {
   "cell_type": "code",
   "execution_count": 6,
   "id": "1b31406b",
   "metadata": {},
   "outputs": [
    {
     "name": "stdout",
     "output_type": "stream",
     "text": [
      "welcome to Python 101: StringsI love uuuuu\n"
     ]
    }
   ],
   "source": [
    "msg='welcome to Python 101: Strings'\n",
    "love='I love uuuuu'\n",
    "print(msg+'+love)"
   ]
  },
  {
   "cell_type": "code",
   "execution_count": 11,
   "id": "35cae47f",
   "metadata": {},
   "outputs": [
    {
     "name": "stdout",
     "output_type": "stream",
     "text": [
      "welcome to Python 101: Strings,I love uuuuu\n"
     ]
    }
   ],
   "source": [
    "msg='welcome to Python 101: Strings'\n",
    "love='I love uuuuu'\n",
    "print(msg + ',' + love)"
   ]
  },
  {
   "cell_type": "code",
   "execution_count": 14,
   "id": "a14204ae",
   "metadata": {},
   "outputs": [
    {
     "name": "stdout",
     "output_type": "stream",
     "text": [
      "welcome to Python 101: Stringswelcome to Python 101: Strings\n"
     ]
    }
   ],
   "source": [
    "msg='welcome to Python 101: Strings'\n",
    "love='I love uuuuu'\n",
    "print(msg*2)"
   ]
  },
  {
   "cell_type": "code",
   "execution_count": 15,
   "id": "b7616083",
   "metadata": {},
   "outputs": [
    {
     "name": "stdout",
     "output_type": "stream",
     "text": [
      "welcome to Python 101: Strings welcome to Python 101: Strings\n"
     ]
    }
   ],
   "source": [
    "msg='welcome to Python 101: Strings'\n",
    "love='I love uuuuu'\n",
    "print(msg,msg)"
   ]
  },
  {
   "cell_type": "code",
   "execution_count": 16,
   "id": "988a6cfa",
   "metadata": {},
   "outputs": [
    {
     "name": "stdout",
     "output_type": "stream",
     "text": [
      "WELCOME TO PYTHON 101: STRINGS\n"
     ]
    }
   ],
   "source": [
    "#to change to upper case\n",
    "msg='welcome to Python 101: Strings'\n",
    "love='I love uuuuu'\n",
    "print(msg.upper())"
   ]
  },
  {
   "cell_type": "code",
   "execution_count": 17,
   "id": "5e8beb91",
   "metadata": {},
   "outputs": [
    {
     "name": "stdout",
     "output_type": "stream",
     "text": [
      "i love uuuuu\n"
     ]
    }
   ],
   "source": [
    "#to change to lower case\n",
    "msg='welcome to Python 101: Strings'\n",
    "love='I love uuuuu'\n",
    "print(love.lower())"
   ]
  },
  {
   "cell_type": "code",
   "execution_count": 18,
   "id": "a5a1cfc6",
   "metadata": {},
   "outputs": [
    {
     "name": "stdout",
     "output_type": "stream",
     "text": [
      "Welcome to python 101: strings\n"
     ]
    }
   ],
   "source": [
    "#to make sure only the first letter is capitalise\n",
    "msg='welcome to Python 101: Strings'\n",
    "love='I love uuuuu'\n",
    "print(msg.capitalize())"
   ]
  },
  {
   "cell_type": "code",
   "execution_count": 19,
   "id": "ef586a78",
   "metadata": {},
   "outputs": [
    {
     "name": "stdout",
     "output_type": "stream",
     "text": [
      "Welcome To Python 101: Strings\n"
     ]
    }
   ],
   "source": [
    "#to change all fisrt letter to upper case\n",
    "msg='welcome to Python 101: Strings'\n",
    "love='I love uuuuu'\n",
    "print(msg.title())"
   ]
  },
  {
   "cell_type": "code",
   "execution_count": null,
   "id": "2ed5c0d5",
   "metadata": {},
   "outputs": [],
   "source": [
    "#to find out the length of a sentence"
   ]
  },
  {
   "cell_type": "code",
   "execution_count": 20,
   "id": "1057cab0",
   "metadata": {},
   "outputs": [
    {
     "name": "stdout",
     "output_type": "stream",
     "text": [
      "welcome to Python 101: Strings\n",
      "30\n"
     ]
    }
   ],
   "source": [
    "msg='welcome to Python 101: Strings'\n",
    "print(msg)\n",
    "print(len(msg))"
   ]
  },
  {
   "cell_type": "code",
   "execution_count": 22,
   "id": "a4e0335e",
   "metadata": {},
   "outputs": [
    {
     "name": "stdout",
     "output_type": "stream",
     "text": [
      "welcome to Python 101: Strings\n",
      "30\n",
      "1\n"
     ]
    }
   ],
   "source": [
    "#to find out the instances of a world eg Python\n",
    "msg='welcome to Python 101: Strings'\n",
    "print(msg)\n",
    "print(len(msg))\n",
    "print(msg.count('Python'))\n"
   ]
  },
  {
   "cell_type": "code",
   "execution_count": 23,
   "id": "7e3649fa",
   "metadata": {},
   "outputs": [
    {
     "name": "stdout",
     "output_type": "stream",
     "text": [
      "welcome to Python 101: Strings\n",
      "30\n",
      "3\n"
     ]
    }
   ],
   "source": [
    "msg='welcome to Python 101: Strings'\n",
    "print(msg)\n",
    "print(len(msg))\n",
    "print(msg.count('o'))"
   ]
  },
  {
   "cell_type": "code",
   "execution_count": 26,
   "id": "9b520e4e",
   "metadata": {},
   "outputs": [
    {
     "name": "stdout",
     "output_type": "stream",
     "text": [
      "welcome to Python 101: Strings\n",
      "w\n",
      "welcome\n"
     ]
    }
   ],
   "source": [
    "#Slicing Strings\n",
    "#in python, the first character is 0, the second is 1,...2....3\n",
    "msg='welcome to Python 101: Strings'\n",
    "    #012345678\n",
    "print(msg)\n",
    "#slicing\n",
    "print(msg[0])\n",
    "print(msg[0:7])"
   ]
  },
  {
   "cell_type": "code",
   "execution_count": 30,
   "id": "7fe8c6e4",
   "metadata": {},
   "outputs": [
    {
     "name": "stdout",
     "output_type": "stream",
     "text": [
      "welcome to Python 101: Strings\n",
      "s\n"
     ]
    }
   ],
   "source": [
    "msg='welcome to Python 101: Strings'\n",
    "    #012345678\n",
    "print(msg)\n",
    "#slicing\n",
    "print(msg[-1])\n",
    "#gives the last character"
   ]
  },
  {
   "cell_type": "code",
   "execution_count": 33,
   "id": "5b264d61",
   "metadata": {},
   "outputs": [
    {
     "name": "stdout",
     "output_type": "stream",
     "text": [
      "come to Python 101: Strings\n"
     ]
    }
   ],
   "source": [
    "msg='welcome to Python 101: Strings'\n",
    "    #012345678\n",
    "#slicing\n",
    "print(msg[3:])"
   ]
  },
  {
   "cell_type": "code",
   "execution_count": 37,
   "id": "515d9a3c",
   "metadata": {},
   "outputs": [
    {
     "name": "stdout",
     "output_type": "stream",
     "text": [
      "welcome to Python 101: Strings\n",
      "come \n"
     ]
    }
   ],
   "source": [
    "msg='welcome to Python 101: Strings'\n",
    "    #012345678\n",
    "print(msg)\n",
    "#slicing\n",
    "print(msg[3:8])"
   ]
  },
  {
   "cell_type": "code",
   "execution_count": 39,
   "id": "074a6147",
   "metadata": {},
   "outputs": [
    {
     "name": "stdout",
     "output_type": "stream",
     "text": [
      "welcome\n"
     ]
    }
   ],
   "source": [
    "msg='welcome to Python 101: Strings'\n",
    "    #012345678\n",
    "#slicing\n",
    "print(msg[:7])"
   ]
  },
  {
   "cell_type": "code",
   "execution_count": 45,
   "id": "b18641e4",
   "metadata": {},
   "outputs": [
    {
     "name": "stdout",
     "output_type": "stream",
     "text": [
      "welcome\n"
     ]
    }
   ],
   "source": [
    "msg='welcome to Python 101: Strings'\n",
    "    #012345678\n",
    "\n",
    "#Welcome Ring to Tyler\n",
    "welcome=(msg[0:7])\n",
    "print(welcome)"
   ]
  },
  {
   "cell_type": "code",
   "execution_count": 52,
   "id": "82bd05c0",
   "metadata": {},
   "outputs": [
    {
     "name": "stdout",
     "output_type": "stream",
     "text": [
      "ring\n"
     ]
    }
   ],
   "source": [
    "ring=(msg[-5:-1])\n",
    "print(ring)"
   ]
  },
  {
   "cell_type": "code",
   "execution_count": 57,
   "id": "e62192d6",
   "metadata": {},
   "outputs": [
    {
     "name": "stdout",
     "output_type": "stream",
     "text": [
      "to\n"
     ]
    }
   ],
   "source": [
    "to=(msg[8:10])\n",
    "print(to)"
   ]
  },
  {
   "cell_type": "code",
   "execution_count": 61,
   "id": "7fc15b7c",
   "metadata": {},
   "outputs": [
    {
     "name": "stdout",
     "output_type": "stream",
     "text": [
      "welcomeringto\n"
     ]
    }
   ],
   "source": [
    "assignment=(welcome + '' + ring + '' + to)\n",
    "print(assignment)"
   ]
  },
  {
   "cell_type": "code",
   "execution_count": 65,
   "id": "230fe5b5",
   "metadata": {},
   "outputs": [
    {
     "data": {
      "text/plain": [
       "'otgniremoclew'"
      ]
     },
     "execution_count": 65,
     "metadata": {},
     "output_type": "execute_result"
    }
   ],
   "source": [
    "assignment[::-1]"
   ]
  },
  {
   "cell_type": "code",
   "execution_count": null,
   "id": "8f25d4f5",
   "metadata": {},
   "outputs": [],
   "source": [
    "'hello world'[::-1]\n",
    "'dlrow olleh'"
   ]
  },
  {
   "cell_type": "code",
   "execution_count": 66,
   "id": "22fb2a08",
   "metadata": {},
   "outputs": [
    {
     "name": "stdout",
     "output_type": "stream",
     "text": [
      "Welcomeringto\n"
     ]
    }
   ],
   "source": [
    "print(assignment.capitalize())"
   ]
  },
  {
   "cell_type": "code",
   "execution_count": 67,
   "id": "dcdc9806",
   "metadata": {},
   "outputs": [
    {
     "name": "stdout",
     "output_type": "stream",
     "text": [
      "1 welcome ring to tyler\n"
     ]
    }
   ],
   "source": [
    "msg='welcome to Python 101: Strings'\n",
    "msg1=msg[18]+' '+msg[:8]+msg[25:29]+msg[7:11]+msg[13]+msg[12]+msg[2]+msg[1]+msg[-5]  \n",
    "print(msg1)"
   ]
  },
  {
   "cell_type": "code",
   "execution_count": 73,
   "id": "4df86b25",
   "metadata": {},
   "outputs": [
    {
     "name": "stdout",
     "output_type": "stream",
     "text": [
      "1 Welcome Ring To Tyler\n",
      "Relyt Ot Gnir Emoclew 1\n"
     ]
    }
   ],
   "source": [
    "msg='welcome to Python 101: Strings'\n",
    "msg1=msg[18]+' '+msg[:8]+msg[25:29]+msg[7:11]+msg[13]+msg[12]+msg[2]+msg[1]+msg[-5]  \n",
    "print(msg1.title())\n",
    "print(msg1[::-1].title())"
   ]
  },
  {
   "cell_type": "code",
   "execution_count": 74,
   "id": "5e0993d9",
   "metadata": {},
   "outputs": [
    {
     "name": "stdout",
     "output_type": "stream",
     "text": [
      "Dear Terry,,\n",
      "You must cut down the mightiest \n",
      "tree in the forest with…\n",
      "a herring! <3\n"
     ]
    }
   ],
   "source": [
    "#It is used to break sentence into bits\n",
    "msg=\"\"\"Dear Terry,,\n",
    "You must cut down the mightiest \n",
    "tree in the forest with…\n",
    "a herring! <3\"\"\"\n",
    "print(msg)"
   ]
  },
  {
   "cell_type": "code",
   "execution_count": 75,
   "id": "ac456011",
   "metadata": {},
   "outputs": [
    {
     "name": "stdout",
     "output_type": "stream",
     "text": [
      "14\n"
     ]
    }
   ],
   "source": [
    "#To find word's position\n",
    "msg='Welcome to Python 101: Strings'\n",
    "print(msg.find('h'))\n"
   ]
  },
  {
   "cell_type": "code",
   "execution_count": 76,
   "id": "48ca987a",
   "metadata": {},
   "outputs": [
    {
     "name": "stdout",
     "output_type": "stream",
     "text": [
      "11\n"
     ]
    }
   ],
   "source": [
    "msg='Welcome to Python 101: Strings'\n",
    "print(msg.find('Python'))"
   ]
  },
  {
   "cell_type": "code",
   "execution_count": 78,
   "id": "ee9b0e37",
   "metadata": {},
   "outputs": [
    {
     "name": "stdout",
     "output_type": "stream",
     "text": [
      "Welcome to Java 101: Strings\n"
     ]
    }
   ],
   "source": [
    "#to replace something e.g. replace Python with Java\n",
    "msg='Welcome to Python 101: Strings'\n",
    "print(msg.replace('Python','Java')) #The syntax for replacing\n"
   ]
  },
  {
   "cell_type": "code",
   "execution_count": 79,
   "id": "b9d881e0",
   "metadata": {},
   "outputs": [
    {
     "name": "stdout",
     "output_type": "stream",
     "text": [
      "Welcome to C 101: Strings\n",
      "Welcome to C 101: Strings\n",
      "Welcome to Python 101: Strings\n"
     ]
    }
   ],
   "source": [
    "#strings are immutable i.e. you cant change them, so you have to save them in another instance\n",
    "#so we need to safe this into a new variable\n",
    "msg='Welcome to Python 101: Strings'\n",
    "print(msg.replace('Python','C'))\n",
    "msg1=msg.replace('Python','C')\n",
    "print(msg1)\n",
    "print(msg)"
   ]
  },
  {
   "cell_type": "code",
   "execution_count": 80,
   "id": "9c29a122",
   "metadata": {},
   "outputs": [
    {
     "name": "stdout",
     "output_type": "stream",
     "text": [
      "True\n"
     ]
    }
   ],
   "source": [
    "#this is to ask a question that \"does python exist in a sentence\"\n",
    "msg='Welcome to Python 101: Strings'\n",
    "print('Python' in msg)"
   ]
  },
  {
   "cell_type": "code",
   "execution_count": 81,
   "id": "496d71af",
   "metadata": {},
   "outputs": [
    {
     "name": "stdout",
     "output_type": "stream",
     "text": [
      "False\n"
     ]
    }
   ],
   "source": [
    "#this is to ask a question that \" python does not exist in a sentence\"\n",
    "msg='Welcome to Python 101: Strings'\n",
    "print('Python' not in msg)"
   ]
  },
  {
   "cell_type": "code",
   "execution_count": 82,
   "id": "c6a0cc2e",
   "metadata": {},
   "outputs": [
    {
     "name": "stdout",
     "output_type": "stream",
     "text": [
      "[TERRY] loves the color RED!\n"
     ]
    }
   ],
   "source": [
    "name='TERRY'\n",
    "color = 'RED'\n",
    "msg = '[' + name + '] loves the color ' + color + '!'\n",
    "print(msg)\n"
   ]
  },
  {
   "cell_type": "code",
   "execution_count": 83,
   "id": "bf4d5ce4",
   "metadata": {},
   "outputs": [
    {
     "name": "stdout",
     "output_type": "stream",
     "text": [
      "[TERRY] loves the color RED!\n",
      "[TERRY] loves the color red!\n"
     ]
    }
   ],
   "source": [
    "msg1 = f'[{name}] loves the color {color.lower()}!'\n",
    "print(msg)\n",
    "print(msg1)"
   ]
  },
  {
   "cell_type": "code",
   "execution_count": 88,
   "id": "cb649866",
   "metadata": {},
   "outputs": [
    {
     "name": "stdout",
     "output_type": "stream",
     "text": [
      "[TERRY] loves the color red!\n",
      "[Terry] loves the color red!\n"
     ]
    }
   ],
   "source": [
    "name='TERRY'\n",
    "color = 'RED'\n",
    "msg = '[' + name + '] loves the color ' + color.lower() + '!'\n",
    "msg1 = f'[{name.capitalize()}] loves the color {color.lower()}!'\n",
    "print(msg)\n",
    "print(msg1)"
   ]
  },
  {
   "cell_type": "code",
   "execution_count": null,
   "id": "e495eede",
   "metadata": {},
   "outputs": [],
   "source": []
  }
 ],
 "metadata": {
  "kernelspec": {
   "display_name": "Python 3 (ipykernel)",
   "language": "python",
   "name": "python3"
  },
  "language_info": {
   "codemirror_mode": {
    "name": "ipython",
    "version": 3
   },
   "file_extension": ".py",
   "mimetype": "text/x-python",
   "name": "python",
   "nbconvert_exporter": "python",
   "pygments_lexer": "ipython3",
   "version": "3.9.7"
  }
 },
 "nbformat": 4,
 "nbformat_minor": 5
}
