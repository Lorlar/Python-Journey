{
 "cells": [
  {
   "cell_type": "markdown",
   "id": "51510eaf",
   "metadata": {},
   "source": [
    "# creating forms in python and using python a s calculator\n"
   ]
  },
  {
   "cell_type": "code",
   "execution_count": 1,
   "id": "0f3cdb97",
   "metadata": {},
   "outputs": [
    {
     "name": "stdout",
     "output_type": "stream",
     "text": [
      "Enter your name: Eric\n",
      "Enter distance in km: 15\n",
      "Hi Eric! 15km is equivalent to 9.322560596643878 miles\n"
     ]
    }
   ],
   "source": [
    "name = input('Enter your name: ')\n",
    "distance_km = input('Enter distance in km: ')\n",
    "distance_mi = float(distance_km)/1.609\n",
    "print(f'Hi {name.title()}! {distance_km}km is equivalent to {distance_mi} miles')"
   ]
  },
  {
   "cell_type": "code",
   "execution_count": 4,
   "id": "c2d83fde",
   "metadata": {},
   "outputs": [
    {
     "name": "stdout",
     "output_type": "stream",
     "text": [
      "Enter your name: eric\n",
      "Enter distance in km: 15\n",
      "Hi Eric! 15km is equivalent to 9.3 miles\n"
     ]
    }
   ],
   "source": [
    "name = input('Enter your name: ')\n",
    "distance_km = input('Enter distance in km: ')\n",
    "distance_mi = float(distance_km)/1.609\n",
    "print(f'Hi {name.title()}! {distance_km}km is equivalent to {round(distance_mi,1)} miles') # round for rounding off"
   ]
  },
  {
   "cell_type": "markdown",
   "id": "178047a8",
   "metadata": {},
   "source": [
    "# Creating List in Python"
   ]
  },
  {
   "cell_type": "code",
   "execution_count": 10,
   "id": "a5e88325",
   "metadata": {},
   "outputs": [
    {
     "name": "stdout",
     "output_type": "stream",
     "text": [
      "Michael Graham\n",
      "['Terry', 'Eric', 'Graham']\n",
      "John\n",
      "['John', 'Michael', 'Terry', 'Eric']\n"
     ]
    }
   ],
   "source": [
    "friends = ['John','Michael','Terry','Eric','Graham']\n",
    "\n",
    "print(friends[1],friends[4])\n",
    "print(friends[2:6])\n",
    "print(friends[0])\n",
    "print(friends[:4])"
   ]
  },
  {
   "cell_type": "code",
   "execution_count": 16,
   "id": "2f889f11",
   "metadata": {},
   "outputs": [
    {
     "name": "stdout",
     "output_type": "stream",
     "text": [
      "Michael Graham\n",
      "['John', 'Michael', 'Terry', 'Eric', 'Graham']\n"
     ]
    }
   ],
   "source": [
    "friends = ['John','Michael','Terry','Eric','Graham']\n",
    "\n",
    "print(friends[1], friends[4])\n",
    "print(friends[:])"
   ]
  },
  {
   "cell_type": "code",
   "execution_count": 17,
   "id": "6a8512f3",
   "metadata": {},
   "outputs": [
    {
     "name": "stdout",
     "output_type": "stream",
     "text": [
      "Michael Graham\n",
      "5\n"
     ]
    }
   ],
   "source": [
    "friends = ['John','Michael','Terry','Eric','Graham']\n",
    "\n",
    "print(friends[1],friends[4])\n",
    "print(len(friends))# Number of friends"
   ]
  },
  {
   "cell_type": "code",
   "execution_count": 18,
   "id": "afb4b216",
   "metadata": {},
   "outputs": [
    {
     "name": "stdout",
     "output_type": "stream",
     "text": [
      "Michael Graham\n",
      "5\n",
      "3\n"
     ]
    }
   ],
   "source": [
    "friends = ['John','Michael','Terry','Eric','Graham']\n",
    "\n",
    "print(friends[1],friends[4])\n",
    "print(len(friends))\n",
    "print(friends.index('Eric')) #find d index number of a variable"
   ]
  },
  {
   "cell_type": "code",
   "execution_count": 20,
   "id": "f784bea5",
   "metadata": {},
   "outputs": [
    {
     "name": "stdout",
     "output_type": "stream",
     "text": [
      "['John', 'Michael', 'Terry', 'Eric', 'Graham']\n"
     ]
    }
   ],
   "source": [
    "#We can alsso count the number of occurences of an instance\n",
    "#list can contain different variables\n",
    "friends = ['John','Michael','Terry','Eric','Graham']\n",
    "cars = [911,130,328,535,740,308]\n",
    "print(friends)"
   ]
  },
  {
   "cell_type": "code",
   "execution_count": 21,
   "id": "9a966880",
   "metadata": {},
   "outputs": [
    {
     "name": "stdout",
     "output_type": "stream",
     "text": [
      "['John', 'Michael', 'Terry', 'Eric', 'Graham']\n",
      "['Eric', 'Graham', 'John', 'Michael', 'Terry']\n"
     ]
    }
   ],
   "source": [
    "#We can sort a list\n",
    "friends = ['John','Michael','Terry','Eric','Graham']\n",
    "cars = [911,130,328,535,740,308]\n",
    "print(friends)\n",
    "friends.sort() #sort in ascending order\n",
    "print(friends)\n"
   ]
  },
  {
   "cell_type": "code",
   "execution_count": 22,
   "id": "9e1fd5fa",
   "metadata": {},
   "outputs": [
    {
     "name": "stdout",
     "output_type": "stream",
     "text": [
      "['John', 'Michael', 'Terry', 'Eric', 'Graham']\n",
      "['Eric', 'Graham', 'John', 'Michael', 'Terry']\n",
      "['Terry', 'Michael', 'John', 'Graham', 'Eric']\n"
     ]
    }
   ],
   "source": [
    "friends = ['John','Michael','Terry','Eric','Graham']\n",
    "cars = [911,130,328,535,740,308]\n",
    "print(friends)\n",
    "friends.sort()\n",
    "print(friends)\n",
    "friends.sort(reverse=True)\n",
    "print(friends)"
   ]
  },
  {
   "cell_type": "code",
   "execution_count": 23,
   "id": "5a35de1f",
   "metadata": {},
   "outputs": [
    {
     "name": "stdout",
     "output_type": "stream",
     "text": [
      "['John', 'Michael', 'Terry', 'Eric', 'Graham']\n",
      "['Eric', 'Graham', 'John', 'Michael', 'Terry']\n",
      "['Terry', 'Michael', 'John', 'Graham', 'Eric']\n",
      "['Eric', 'Graham', 'John', 'Michael', 'Terry']\n"
     ]
    }
   ],
   "source": [
    "friends = ['John','Michael','Terry','Eric','Graham']\n",
    "cars = [911,130,328,535,740,308]\n",
    "print(friends)\n",
    "friends.sort()\n",
    "print(friends)\n",
    "friends.sort(reverse=True)\n",
    "print(friends)\n",
    "friends.reverse()\n",
    "print(friends)"
   ]
  },
  {
   "cell_type": "code",
   "execution_count": 29,
   "id": "bf5ba2de",
   "metadata": {},
   "outputs": [
    {
     "name": "stdout",
     "output_type": "stream",
     "text": [
      "['John', 'Michael', 'Terry', 'Eric', 'Graham']\n",
      "130\n",
      "911\n",
      "2952\n"
     ]
    }
   ],
   "source": [
    "friends = ['John','Michael','Terry','Eric','Graham']\n",
    "cars = [911,130,328,535,740,308]\n",
    "print(friends)\n",
    "print(min(cars))\n",
    "print(max(cars))\n",
    "print(sum(cars))\n"
   ]
  },
  {
   "cell_type": "code",
   "execution_count": 32,
   "id": "d58bd2a0",
   "metadata": {},
   "outputs": [
    {
     "name": "stdout",
     "output_type": "stream",
     "text": [
      "['John', 'Michael', 'Terry', 'Eric', 'Graham']\n",
      "Terry\n",
      "Eric\n"
     ]
    }
   ],
   "source": [
    "#min and max also works with letters\n",
    "friends = ['John','Michael','Terry','Eric','Graham']\n",
    "cars = [911,130,328,535,740,308]\n",
    "print(friends)\n",
    "print(max(friends))\n",
    "print(min(friends))"
   ]
  },
  {
   "cell_type": "markdown",
   "id": "b7f5cfd8",
   "metadata": {},
   "source": [
    "# TO ADD SOMETHING TO LIST, IT IS CALLED APPEND\n"
   ]
  },
  {
   "cell_type": "code",
   "execution_count": 34,
   "id": "bf02e47b",
   "metadata": {},
   "outputs": [
    {
     "name": "stdout",
     "output_type": "stream",
     "text": [
      "['John', 'Michael', 'Terry', 'Eric', 'Graham', 'TerryG']\n"
     ]
    }
   ],
   "source": [
    "friends = ['John','Michael','Terry','Eric','Graham']\n",
    "cars = [911,130,328,535,740,308]\n",
    "friends.append('TerryG')\n",
    "print(friends)"
   ]
  },
  {
   "cell_type": "code",
   "execution_count": 35,
   "id": "93bf12f4",
   "metadata": {},
   "outputs": [
    {
     "name": "stdout",
     "output_type": "stream",
     "text": [
      "['John', 'TerryG', 'Michael', 'Terry', 'Eric', 'Graham']\n"
     ]
    }
   ],
   "source": [
    "friends = ['John','Michael','Terry','Eric','Graham']\n",
    "cars = [911,130,328,535,740,308]\n",
    "friends.insert(1,'TerryG')  #TO INSERT INTO A POSITION\n",
    "print(friends)"
   ]
  },
  {
   "cell_type": "code",
   "execution_count": 36,
   "id": "0a52cb6a",
   "metadata": {},
   "outputs": [
    {
     "name": "stdout",
     "output_type": "stream",
     "text": [
      "['John', 'Michael', 'TerryG', 'Eric', 'Graham']\n"
     ]
    }
   ],
   "source": [
    "friends = ['John','Michael','Terry','Eric','Graham']\n",
    "cars = [911,130,328,535,740,308]\n",
    "friends[2]='TerryG' #TO REPLACE TERRY IN POSITION 2 WITH TERRYG\n",
    "print(friends)"
   ]
  },
  {
   "cell_type": "code",
   "execution_count": 37,
   "id": "3db64259",
   "metadata": {},
   "outputs": [
    {
     "name": "stdout",
     "output_type": "stream",
     "text": [
      "['John', 'Michael', 'Terry', 'Eric', 'Graham', 911, 130, 328, 535, 740, 308]\n"
     ]
    }
   ],
   "source": [
    "#WE CAN ALSO EXTEND A LIST \n",
    "friends = ['John','Michael','Terry','Eric','Graham']\n",
    "cars = [911,130,328,535,740,308]\n",
    "friends.extend(cars)\n",
    "print(friends)\n"
   ]
  },
  {
   "cell_type": "code",
   "execution_count": 38,
   "id": "52557a74",
   "metadata": {},
   "outputs": [
    {
     "name": "stdout",
     "output_type": "stream",
     "text": [
      "[911, 130, 328, 535, 740, 308, 'John', 'Michael', 'Terry', 'Eric', 'Graham']\n"
     ]
    }
   ],
   "source": [
    "friends = ['John','Michael','Terry','Eric','Graham']\n",
    "cars = [911,130,328,535,740,308]\n",
    "cars.extend(friends)\n",
    "print(cars)"
   ]
  },
  {
   "cell_type": "code",
   "execution_count": 39,
   "id": "c1d4c0e8",
   "metadata": {},
   "outputs": [
    {
     "name": "stdout",
     "output_type": "stream",
     "text": [
      "['John', 'Michael', 'Terry', 'Eric']\n"
     ]
    }
   ],
   "source": [
    "#pop function is used for removing something from a list\n",
    "friends = ['John','Michael','Terry','Eric','Graham']\n",
    "cars = [911,130,328,535,740,308]\n",
    "friends.pop() #this removes d last name form the list\n",
    "print(friends)\n"
   ]
  },
  {
   "cell_type": "code",
   "execution_count": 40,
   "id": "71604640",
   "metadata": {},
   "outputs": [
    {
     "name": "stdout",
     "output_type": "stream",
     "text": [
      "['John', 'Michael', 'Eric', 'Graham']\n"
     ]
    }
   ],
   "source": [
    "#you can also specify what you want to pop\n",
    "friends = ['John','Michael','Terry','Eric','Graham']\n",
    "cars = [911,130,328,535,740,308]\n",
    "friends.pop(2)\n",
    "print(friends)"
   ]
  },
  {
   "cell_type": "code",
   "execution_count": 41,
   "id": "8816b6c9",
   "metadata": {},
   "outputs": [
    {
     "name": "stdout",
     "output_type": "stream",
     "text": [
      "['John', 'Michael', 'Terry', 'Eric']\n"
     ]
    }
   ],
   "source": [
    "friends = ['John','Michael','Terry','Eric','Graham']\n",
    "cars = [911,130,328,535,740,308]\n",
    "friends.pop(-1)\n",
    "print(friends)"
   ]
  },
  {
   "cell_type": "code",
   "execution_count": 42,
   "id": "225d0bce",
   "metadata": {},
   "outputs": [
    {
     "name": "stdout",
     "output_type": "stream",
     "text": [
      "[]\n"
     ]
    }
   ],
   "source": [
    "#to clear a list\n",
    "friends = ['John','Michael','Terry','Eric','Graham']\n",
    "cars = [911,130,328,535,740,308]\n",
    "friends.clear()\n",
    "print(friends)\n"
   ]
  },
  {
   "cell_type": "code",
   "execution_count": 46,
   "id": "38c10324",
   "metadata": {},
   "outputs": [],
   "source": [
    "#to remove it completely\n",
    "friends = ['John','Michael','Terry','Eric','Graham']\n",
    "cars = [911,130,328,535,740,308]\n",
    "del friends\n",
    "\n",
    "\n"
   ]
  },
  {
   "cell_type": "code",
   "execution_count": 47,
   "id": "acdef337",
   "metadata": {},
   "outputs": [
    {
     "name": "stdout",
     "output_type": "stream",
     "text": [
      "['John', 'Michael', 'Eric', 'Graham']\n"
     ]
    }
   ],
   "source": [
    "#to delete part of a list\n",
    "friends = ['John','Michael','Terry','Eric','Graham']\n",
    "cars = [911,130,328,535,740,308]\n",
    "del friends[2]  #splecify its index position\n",
    "print(friends)\n"
   ]
  },
  {
   "cell_type": "code",
   "execution_count": 48,
   "id": "6315be4f",
   "metadata": {},
   "outputs": [
    {
     "name": "stdout",
     "output_type": "stream",
     "text": [
      "['John', 'Michael', 'Eric', 'Graham']\n",
      "['John', 'Michael', 'Eric', 'Graham']\n"
     ]
    }
   ],
   "source": [
    "#how to copy list\n",
    "friends = ['John','Michael','Terry','Eric','Graham']\n",
    "cars = [911,130,328,535,740,308]\n",
    "del friends[2]\n",
    "new_friends = friends[:]\n",
    "print(friends)\n",
    "print(new_friends)\n"
   ]
  },
  {
   "cell_type": "code",
   "execution_count": 49,
   "id": "40b2f9dc",
   "metadata": {},
   "outputs": [
    {
     "name": "stdout",
     "output_type": "stream",
     "text": [
      "['John', 'Michael', 'Eric', 'Graham']\n",
      "['John', 'Michael', 'Eric', 'Graham']\n"
     ]
    }
   ],
   "source": [
    "friends = ['John','Michael','Terry','Eric','Graham']\n",
    "cars = [911,130,328,535,740,308]\n",
    "del friends[2]\n",
    "new_friends = friends.copy()\n",
    "print(friends)\n",
    "print(new_friends)"
   ]
  },
  {
   "cell_type": "code",
   "execution_count": 50,
   "id": "202d5aad",
   "metadata": {},
   "outputs": [
    {
     "name": "stdout",
     "output_type": "stream",
     "text": [
      "['John', 'Michael', 'Eric', 'Graham']\n",
      "['John', 'Michael', 'Eric', 'Graham']\n"
     ]
    }
   ],
   "source": [
    "#the third way to copy a list\n",
    "friends = ['John','Michael','Terry','Eric','Graham']\n",
    "cars = [911,130,328,535,740,308]\n",
    "del friends[2]\n",
    "new_friends = list(friends)\n",
    "print(friends)\n",
    "print(new_friends)"
   ]
  },
  {
   "cell_type": "code",
   "execution_count": null,
   "id": "d1bc5ad1",
   "metadata": {},
   "outputs": [],
   "source": []
  }
 ],
 "metadata": {
  "kernelspec": {
   "display_name": "Python 3 (ipykernel)",
   "language": "python",
   "name": "python3"
  },
  "language_info": {
   "codemirror_mode": {
    "name": "ipython",
    "version": 3
   },
   "file_extension": ".py",
   "mimetype": "text/x-python",
   "name": "python",
   "nbconvert_exporter": "python",
   "pygments_lexer": "ipython3",
   "version": "3.9.7"
  }
 },
 "nbformat": 4,
 "nbformat_minor": 5
}
