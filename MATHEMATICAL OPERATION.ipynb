{
 "cells": [
  {
   "cell_type": "markdown",
   "id": "4b325b9c",
   "metadata": {},
   "source": [
    "# CREAT AN APPLICATION"
   ]
  },
  {
   "cell_type": "code",
   "execution_count": 2,
   "id": "af9a4566",
   "metadata": {},
   "outputs": [
    {
     "name": "stdout",
     "output_type": "stream",
     "text": [
      "Variables & Datatypes - Exercise\n"
     ]
    }
   ],
   "source": [
    "print('Variables & Datatypes - Exercise')"
   ]
  },
  {
   "cell_type": "code",
   "execution_count": null,
   "id": "b55d58bb",
   "metadata": {},
   "outputs": [],
   "source": [
    "#Create appropriate Variables for Item name, the price \n",
    "#and how many you have in stock"
   ]
  },
  {
   "cell_type": "code",
   "execution_count": 4,
   "id": "19f0ff25",
   "metadata": {},
   "outputs": [
    {
     "name": "stdout",
     "output_type": "stream",
     "text": [
      "27\n"
     ]
    }
   ],
   "source": [
    "items_Stocked= 50\n",
    "items_Sold=23\n",
    "item_instore=(items_Stocked-items_Sold)\n",
    "print(item_instore)"
   ]
  },
  {
   "cell_type": "code",
   "execution_count": 5,
   "id": "07ec55aa",
   "metadata": {},
   "outputs": [
    {
     "name": "stdout",
     "output_type": "stream",
     "text": [
      "widget 23.5 100\n"
     ]
    }
   ],
   "source": [
    "item_name = 'widget'\n",
    "price = 23.5\n",
    "inventory = 100\n",
    "item_instore=True\n",
    "print(item_name, price, inventory)"
   ]
  },
  {
   "cell_type": "code",
   "execution_count": null,
   "id": "441a4c5b",
   "metadata": {},
   "outputs": [],
   "source": [
    "#Basic arithmetic operation in Python"
   ]
  },
  {
   "cell_type": "code",
   "execution_count": 6,
   "id": "68b499b8",
   "metadata": {},
   "outputs": [
    {
     "name": "stdout",
     "output_type": "stream",
     "text": [
      "Addition :  8\n",
      "Subtraction :  4\n",
      "Multiplication :  12\n",
      "Division (float) :  3.0\n",
      "Division (floor) :  3\n",
      "Modulus :  0\n",
      "Exponent :  36\n"
     ]
    }
   ],
   "source": [
    "a=6\n",
    "b=2\n",
    "print('Addition : ', a + b)\n",
    "print('Subtraction : ', a - b)\n",
    "print('Multiplication : ', a * b)\n",
    "print('Division (float) : ', a / b)\n",
    "print('Division (floor) : ', a // b)\n",
    "print('Modulus : ', a % b)\n",
    "print('Exponent : ', a ** b)"
   ]
  },
  {
   "cell_type": "code",
   "execution_count": 7,
   "id": "db034377",
   "metadata": {},
   "outputs": [
    {
     "name": "stdout",
     "output_type": "stream",
     "text": [
      "Addition :  13\n",
      "Subtraction :  7\n",
      "Multiplication :  30\n",
      "Division (float) :  3.3333333333333335\n",
      "Division (floor) :  3\n",
      "Modulus :  1\n",
      "Exponent :  1000\n"
     ]
    }
   ],
   "source": [
    "a=10\n",
    "b=3\n",
    "print('Addition : ', a + b)\n",
    "print('Subtraction : ', a - b)\n",
    "print('Multiplication : ', a * b)\n",
    "print('Division (float) : ', a / b)\n",
    "print('Division (floor) : ', a // b)\n",
    "print('Modulus : ', a % b)\n",
    "print('Exponent : ', a ** b)"
   ]
  },
  {
   "cell_type": "code",
   "execution_count": null,
   "id": "891d39d6",
   "metadata": {},
   "outputs": [],
   "source": []
  }
 ],
 "metadata": {
  "kernelspec": {
   "display_name": "Python 3 (ipykernel)",
   "language": "python",
   "name": "python3"
  },
  "language_info": {
   "codemirror_mode": {
    "name": "ipython",
    "version": 3
   },
   "file_extension": ".py",
   "mimetype": "text/x-python",
   "name": "python",
   "nbconvert_exporter": "python",
   "pygments_lexer": "ipython3",
   "version": "3.9.7"
  }
 },
 "nbformat": 4,
 "nbformat_minor": 5
}
