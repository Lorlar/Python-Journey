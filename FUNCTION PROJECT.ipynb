{
 "cells": [
  {
   "cell_type": "code",
   "execution_count": 1,
   "id": "afe8f91c",
   "metadata": {},
   "outputs": [
    {
     "name": "stdout",
     "output_type": "stream",
     "text": [
      "Enter your name: OMOLOLA\n",
      "Enter your age: 35\n",
      "Hello OMOLOLA, you are 32!\n",
      "Hello OMOLOLA, you are 32!\n"
     ]
    }
   ],
   "source": [
    "def greeting(name, age=28, color):\n",
    "    #Greets user with 'name' from 'input box' and 'age', if available, default age is used\n",
    "    print('Hello '  +  name + ', you are ' + str(age) +'!' + \"We hear you like the color\" + color)\n",
    "    print(f'Hello {name}, you are {age}!', We hear you like the color {color})\n",
    "    \n",
    "\n",
    "name = input('Enter your name: ')\n",
    "age = input('Enter your age: ')\n",
    "color = input(\"We hear you like the color: \")\n",
    "greeting(name, 32)"
   ]
  },
  {
   "cell_type": "code",
   "execution_count": 10,
   "id": "07f1abbe",
   "metadata": {},
   "outputs": [
    {
     "name": "stdout",
     "output_type": "stream",
     "text": [
      "Enter your name: Bayo\n",
      "Enter your age: 28\n",
      "We hear you like the color: Purple\n",
      "Hello Bayo, you are 28! We hear you like the color Purple\n",
      "Hello Bayo, you are 28!, We hear you like the color Purple\n"
     ]
    }
   ],
   "source": [
    "def greeting(name, age, color):\n",
    "    #Greets user with 'name' from 'input box' and 'age', if available, default age is used\n",
    "    print('Hello '  +  name + ', you are ' + str(age) + '!' + \" We hear you like the color \" +  color)\n",
    "    print(f'Hello {name}, you are {age}!, We hear you like the color {color}')\n",
    "    \n",
    "\n",
    "name = input('Enter your name: ')\n",
    "age = input('Enter your age: ')\n",
    "color = input(\"We hear you like the color: \")\n",
    "greeting(name, age, color)"
   ]
  },
  {
   "cell_type": "code",
   "execution_count": 19,
   "id": "06df1b69",
   "metadata": {},
   "outputs": [
    {
     "ename": "SyntaxError",
     "evalue": "invalid syntax (Temp/ipykernel_1780/1961439020.py, line 4)",
     "output_type": "error",
     "traceback": [
      "\u001b[1;36m  File \u001b[1;32m\"C:\\Users\\Omolola\\AppData\\Local\\Temp/ipykernel_1780/1961439020.py\"\u001b[1;36m, line \u001b[1;32m4\u001b[0m\n\u001b[1;33m    print(f'Hello {name}, you are {age}!, We hear you like the color {color}')\u001b[0m\n\u001b[1;37m    ^\u001b[0m\n\u001b[1;31mSyntaxError\u001b[0m\u001b[1;31m:\u001b[0m invalid syntax\n"
     ]
    }
   ],
   "source": [
    "def greeting(name, age, color = \"Red\"):\n",
    "    #Greets user with 'name' from 'input box' and 'age', if available, default age is used\n",
    "    print('Hello '  +  name + ', you are ' + str(age) + '!' + \" We hear you like the color \" + str(color)\n",
    "    print(f'Hello {name}, you are {age}!, We hear you like the color {color}')\n",
    "    \n",
    "\n",
    "name = input('Enter your name: ')\n",
    "age = input(\"How old are you: \")\n",
    "\n",
    "greeting(name, age, color)"
   ]
  },
  {
   "cell_type": "code",
   "execution_count": null,
   "id": "ab3cdeaf",
   "metadata": {},
   "outputs": [],
   "source": [
    "def greeting(name, age=28):\n",
    "    #Greets user with 'name' from 'input box' and 'age', if available, default age is used\n",
    "    print('Hello '  +  name + ', you are ' + str(age) +'!')\n",
    "    print(f'Hello {name}, you are {age}!')\n",
    "\n",
    "name = input('Enter your name: ')\n",
    "age = input('Enter your age: ')\n",
    "greeting(name, 32)\n",
    "# 1. Add new print statement - on a new line\n",
    "#    which says 'We hear you like the color xxx! xxx is a string with color \n",
    "# 2. extend the function with another  input parameter 'color', that defaults to 'red'\n",
    "# 3. Capture the color via an input box as variable:color \n",
    "# 4. Change the 'You are xx!' text to say 'you will be xx+1 years old next birthday \n",
    "#  adding 1 to the age\n",
    "# 5. Capitalize first letter of the 'name', and rest are small caps \n",
    "# 6. Favorite color should be in lowercase "
   ]
  },
  {
   "cell_type": "code",
   "execution_count": 20,
   "id": "dda51dcc",
   "metadata": {},
   "outputs": [
    {
     "name": "stdout",
     "output_type": "stream",
     "text": [
      "Enter your name: Iyanu\n",
      "Enter your age: 32\n",
      "Enter favorite color: Red\n",
      "Hello Iyanu, you will be 33 next birthday!\n",
      "Hello Iyanu, you will be 33 next birthday!\n",
      "We hear you like the color red!\n"
     ]
    }
   ],
   "source": [
    "def greeting(name, age=28, color = 'red'):\n",
    "    #Greets user with 'name' from 'input box' and 'age' next year, if available, default age is used\n",
    "    # also includes favorite color\n",
    "    print('Hello '  +  name.capitalize() + ', you will be ' + str(age+1) +' next birthday!')\n",
    "    print(f'Hello {name.capitalize()}, you will be {age+1} next birthday!')\n",
    "    print(f'We hear you like the color {color.lower()}!')\n",
    "\n",
    "name = input('Enter your name: ')\n",
    "age = input('Enter your age: ')\n",
    "color = input('Enter favorite color: ')\n",
    "greeting(name, int(age), color)"
   ]
  },
  {
   "cell_type": "code",
   "execution_count": null,
   "id": "b976658f",
   "metadata": {},
   "outputs": [],
   "source": []
  }
 ],
 "metadata": {
  "kernelspec": {
   "display_name": "Python 3 (ipykernel)",
   "language": "python",
   "name": "python3"
  },
  "language_info": {
   "codemirror_mode": {
    "name": "ipython",
    "version": 3
   },
   "file_extension": ".py",
   "mimetype": "text/x-python",
   "name": "python",
   "nbconvert_exporter": "python",
   "pygments_lexer": "ipython3",
   "version": "3.9.7"
  }
 },
 "nbformat": 4,
 "nbformat_minor": 5
}
