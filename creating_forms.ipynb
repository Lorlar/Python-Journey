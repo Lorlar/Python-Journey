{
 "cells": [
  {
   "cell_type": "markdown",
   "id": "8b322711",
   "metadata": {},
   "source": [
    "# CREATING FORMS USING PYTHON\n",
    "To get user input"
   ]
  },
  {
   "cell_type": "code",
   "execution_count": null,
   "id": "9f6a2751",
   "metadata": {},
   "outputs": [],
   "source": [
    "name= input('What is your name?: ')\n",
    "print('hello' + name)"
   ]
  },
  {
   "cell_type": "code",
   "execution_count": null,
   "id": "5e74cffc",
   "metadata": {},
   "outputs": [],
   "source": [
    "name= input('What is your name?: ')\n",
    "print('Hello '+ name)"
   ]
  },
  {
   "cell_type": "code",
   "execution_count": null,
   "id": "8871e789",
   "metadata": {},
   "outputs": [],
   "source": [
    "name= input('What is your name?: ')\n",
    "print('Hello '+ name)"
   ]
  },
  {
   "cell_type": "code",
   "execution_count": null,
   "id": "51c5c782",
   "metadata": {},
   "outputs": [],
   "source": [
    "name= input('What is your name?: ')\n",
    "print(name)"
   ]
  },
  {
   "cell_type": "code",
   "execution_count": null,
   "id": "cd5cda96",
   "metadata": {},
   "outputs": [],
   "source": [
    "name= input('What is your name?: ')\n",
    "age=input('What is your age?: ')\n",
    "print('Hello '+ name + '! You are '+ age + ' years old.')\n",
    "\n",
    "#ANSWER IS ...Hello Eric! You are 37 years old."
   ]
  },
  {
   "cell_type": "code",
   "execution_count": null,
   "id": "47bbd074",
   "metadata": {},
   "outputs": [],
   "source": [
    "num1=input('Enter a digit: ')\n",
    "num2=input('Enter a second number:')\n",
    "answer=float(num1)+float(num2)\n",
    "print(answer)"
   ]
  },
  {
   "cell_type": "code",
   "execution_count": null,
   "id": "4e95f7b7",
   "metadata": {},
   "outputs": [],
   "source": [
    "#DISTANCE CONVERTER\n",
    "name=input('What is your name?: ')\n",
    "print('Hello ' + name)\n",
    "st_name=Eric\n",
    "print('Hello ' + st_name)"
   ]
  },
  {
   "cell_type": "code",
   "execution_count": null,
   "id": "7257e398",
   "metadata": {},
   "outputs": [],
   "source": [
    "st_name=Eric\n",
    "print('Hello ' + st_name)"
   ]
  },
  {
   "cell_type": "code",
   "execution_count": null,
   "id": "2e2e1937",
   "metadata": {},
   "outputs": [],
   "source": []
  }
 ],
 "metadata": {
  "kernelspec": {
   "display_name": "Python 3 (ipykernel)",
   "language": "python",
   "name": "python3"
  },
  "language_info": {
   "codemirror_mode": {
    "name": "ipython",
    "version": 3
   },
   "file_extension": ".py",
   "mimetype": "text/x-python",
   "name": "python",
   "nbconvert_exporter": "python",
   "pygments_lexer": "ipython3",
   "version": "3.9.7"
  }
 },
 "nbformat": 4,
 "nbformat_minor": 5
}
