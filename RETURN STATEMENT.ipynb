{
 "cells": [
  {
   "cell_type": "code",
   "execution_count": null,
   "id": "12f7d211",
   "metadata": {},
   "outputs": [],
   "source": [
    "print(\"Return Statements\")\n",
    "#PYTHON FUNCTIONS ARE COLLECTION OF CODES THAT PERFORM SPECIFIC FUNCTION"
   ]
  },
  {
   "cell_type": "code",
   "execution_count": 1,
   "id": "542b69cc",
   "metadata": {},
   "outputs": [
    {
     "name": "stdout",
     "output_type": "stream",
     "text": [
      "25.0\n"
     ]
    }
   ],
   "source": [
    "def value_added_tax(amount):\n",
    "    tax = amount * 0.25\n",
    "    return tax\n",
    "    \n",
    "print(value_added_tax(100))"
   ]
  },
  {
   "cell_type": "code",
   "execution_count": 2,
   "id": "1c8fe3d6",
   "metadata": {},
   "outputs": [
    {
     "name": "stdout",
     "output_type": "stream",
     "text": [
      "25.0\n"
     ]
    }
   ],
   "source": [
    "def value_added_tax(amount):\n",
    "    tax = amount * 0.25\n",
    "    total_amount = amount * 1.25\n",
    "    return tax\n",
    "    \n",
    "price = value_added_tax(100)    \n",
    "print(price)"
   ]
  },
  {
   "cell_type": "code",
   "execution_count": 3,
   "id": "8dfa2dd8",
   "metadata": {},
   "outputs": [
    {
     "name": "stdout",
     "output_type": "stream",
     "text": [
      "25.0 <class 'float'>\n"
     ]
    }
   ],
   "source": [
    "def value_added_tax(amount):\n",
    "    tax = amount * 0.25\n",
    "    total_amount = amount * 1.25\n",
    "    return tax\n",
    "    \n",
    "price = value_added_tax(100)    \n",
    "print(price, type(price))"
   ]
  },
  {
   "cell_type": "code",
   "execution_count": 4,
   "id": "6bc7f6cf",
   "metadata": {},
   "outputs": [
    {
     "name": "stdout",
     "output_type": "stream",
     "text": [
      "(100, 25.0, 125.0) <class 'tuple'>\n"
     ]
    }
   ],
   "source": [
    "def value_added_tax(amount):\n",
    "    tax = amount * 0.25\n",
    "    total_amount = amount * 1.25\n",
    "    return amount, tax, total_amount\n",
    "    \n",
    "price = value_added_tax(100)    \n",
    "print(price, type(price))"
   ]
  },
  {
   "cell_type": "code",
   "execution_count": 5,
   "id": "aca4f92d",
   "metadata": {},
   "outputs": [
    {
     "name": "stdout",
     "output_type": "stream",
     "text": [
      "[100, 25.0, 125.0] <class 'list'>\n"
     ]
    }
   ],
   "source": [
    "def value_added_tax(amount):\n",
    "    tax = amount * 0.25\n",
    "    total_amount = amount * 1.25\n",
    "    return [amount, tax, total_amount]   #RESULTS TO BE RETURNED\n",
    "    \n",
    "price = value_added_tax(100)    \n",
    "print(price, type(price))"
   ]
  },
  {
   "cell_type": "code",
   "execution_count": 6,
   "id": "27aeba94",
   "metadata": {},
   "outputs": [
    {
     "name": "stdout",
     "output_type": "stream",
     "text": [
      "{25.0, 100, 125.0} <class 'set'>\n"
     ]
    }
   ],
   "source": [
    "def value_added_tax(amount):\n",
    "    tax = amount * 0.25\n",
    "    total_amount = amount * 1.25\n",
    "    return {amount, tax, total_amount}  #cHANGE TO SET\n",
    "    \n",
    "price = value_added_tax(100)    \n",
    "print(price, type(price))"
   ]
  },
  {
   "cell_type": "code",
   "execution_count": 7,
   "id": "b9b4edc5",
   "metadata": {},
   "outputs": [
    {
     "name": "stdout",
     "output_type": "stream",
     "text": [
      "100, 25.0, 125.0 <class 'str'>\n"
     ]
    }
   ],
   "source": [
    "def value_added_tax(amount):\n",
    "    tax = amount * 0.25\n",
    "    total_amount = amount * 1.25\n",
    "    return f\"{amount}, {tax}, {total_amount}\"\n",
    "    \n",
    "price = value_added_tax(100)    \n",
    "print(price, type(price))\n"
   ]
  },
  {
   "cell_type": "code",
   "execution_count": 8,
   "id": "883f5470",
   "metadata": {},
   "outputs": [
    {
     "name": "stdout",
     "output_type": "stream",
     "text": [
      "False\n"
     ]
    }
   ],
   "source": [
    "a = 7\n",
    "b = 3\n",
    "print(a == b)  #IS a =b"
   ]
  },
  {
   "cell_type": "code",
   "execution_count": 9,
   "id": "985e6c9e",
   "metadata": {},
   "outputs": [
    {
     "name": "stdout",
     "output_type": "stream",
     "text": [
      "True\n"
     ]
    }
   ],
   "source": [
    "a = 7\n",
    "b = 3\n",
    "print(a != b)  # a is not equal to b"
   ]
  },
  {
   "cell_type": "code",
   "execution_count": 12,
   "id": "5d293667",
   "metadata": {},
   "outputs": [
    {
     "name": "stdout",
     "output_type": "stream",
     "text": [
      "True\n",
      "False\n"
     ]
    }
   ],
   "source": [
    "a = 7\n",
    "b = 3\n",
    "print(a > b)\n",
    "print(a<b)"
   ]
  },
  {
   "cell_type": "code",
   "execution_count": 13,
   "id": "dd6b5682",
   "metadata": {},
   "outputs": [
    {
     "name": "stdout",
     "output_type": "stream",
     "text": [
      "True\n"
     ]
    }
   ],
   "source": [
    "a = 7\n",
    "b = 3\n",
    "print(a >= b)"
   ]
  },
  {
   "cell_type": "code",
   "execution_count": 14,
   "id": "90a28757",
   "metadata": {},
   "outputs": [
    {
     "name": "stdout",
     "output_type": "stream",
     "text": [
      "True\n"
     ]
    }
   ],
   "source": [
    "a = 7\n",
    "b = 3\n",
    "print('o' in 'John')"
   ]
  },
  {
   "cell_type": "code",
   "execution_count": 15,
   "id": "bb90c408",
   "metadata": {},
   "outputs": [
    {
     "name": "stdout",
     "output_type": "stream",
     "text": [
      "False\n"
     ]
    }
   ],
   "source": [
    "print('o' not in 'John')"
   ]
  },
  {
   "cell_type": "code",
   "execution_count": 16,
   "id": "9c215424",
   "metadata": {},
   "outputs": [
    {
     "name": "stdout",
     "output_type": "stream",
     "text": [
      "True\n"
     ]
    }
   ],
   "source": [
    "a = [3,7,42]\n",
    "b = a\n",
    "print(a == b)  "
   ]
  },
  {
   "cell_type": "code",
   "execution_count": 17,
   "id": "8ebee2b0",
   "metadata": {},
   "outputs": [
    {
     "name": "stdout",
     "output_type": "stream",
     "text": [
      "True\n",
      "True\n"
     ]
    }
   ],
   "source": [
    "a = [3,7,42]\n",
    "b = a\n",
    "print(a == b)\n",
    "print(a is b)"
   ]
  },
  {
   "cell_type": "code",
   "execution_count": 18,
   "id": "b06dfa8e",
   "metadata": {},
   "outputs": [
    {
     "name": "stdout",
     "output_type": "stream",
     "text": [
      "True\n",
      "False\n",
      "2146330205760 2146329724416\n"
     ]
    }
   ],
   "source": [
    "a = [3,7,42]\n",
    "b = [3,7,42]\n",
    "print(a == b)\n",
    "print(a is b)\n",
    "print(id(a), id(b))"
   ]
  },
  {
   "cell_type": "code",
   "execution_count": 19,
   "id": "51093ff3",
   "metadata": {},
   "outputs": [
    {
     "name": "stdout",
     "output_type": "stream",
     "text": [
      "a == b is False\n",
      "a != b is True\n",
      "a > b is True\n",
      "a < b is False\n",
      "a >= b is True\n",
      "a <= b is False\n",
      "o in John is  True\n",
      "o in John is  False\n",
      "John is John  True\n",
      "John is not John is  False\n"
     ]
    },
    {
     "name": "stderr",
     "output_type": "stream",
     "text": [
      "<>:11: SyntaxWarning: \"is\" with a literal. Did you mean \"==\"?\n",
      "<>:12: SyntaxWarning: \"is not\" with a literal. Did you mean \"!=\"?\n",
      "<>:11: SyntaxWarning: \"is\" with a literal. Did you mean \"==\"?\n",
      "<>:12: SyntaxWarning: \"is not\" with a literal. Did you mean \"!=\"?\n",
      "C:\\Users\\Omolola\\AppData\\Local\\Temp/ipykernel_16592/2760185915.py:11: SyntaxWarning: \"is\" with a literal. Did you mean \"==\"?\n",
      "  print('John is John ','John' is 'John') #identity\n",
      "C:\\Users\\Omolola\\AppData\\Local\\Temp/ipykernel_16592/2760185915.py:12: SyntaxWarning: \"is not\" with a literal. Did you mean \"!=\"?\n",
      "  print('John is not John is ','John' is not 'John') # negative identity\n"
     ]
    }
   ],
   "source": [
    "a=7\n",
    "b=3\n",
    "print('a == b is', a == b)\n",
    "print('a != b is', a != b)\n",
    "print('a > b is', a > b)\n",
    "print('a < b is', a < b)\n",
    "print('a >= b is', a >= b)\n",
    "print('a <= b is', a <= b)\n",
    "print('o in John is ','o' in 'John') #membership\n",
    "print('o in John is ','o' not in 'John') #non membership\n",
    "print('John is John ','John' is 'John') #identity\n",
    "print('John is not John is ','John' is not 'John') # negative identity"
   ]
  },
  {
   "cell_type": "code",
   "execution_count": 21,
   "id": "79727fbd",
   "metadata": {},
   "outputs": [
    {
     "name": "stdout",
     "output_type": "stream",
     "text": [
      "42\n",
      "43\n"
     ]
    }
   ],
   "source": [
    "#0 = false\n",
    "#1, 2, 3, 4, 5=True\n",
    "print(42 + False)\n",
    "print(42 + True)"
   ]
  },
  {
   "cell_type": "code",
   "execution_count": null,
   "id": "9917ba9d",
   "metadata": {},
   "outputs": [],
   "source": []
  }
 ],
 "metadata": {
  "kernelspec": {
   "display_name": "Python 3 (ipykernel)",
   "language": "python",
   "name": "python3"
  },
  "language_info": {
   "codemirror_mode": {
    "name": "ipython",
    "version": 3
   },
   "file_extension": ".py",
   "mimetype": "text/x-python",
   "name": "python",
   "nbconvert_exporter": "python",
   "pygments_lexer": "ipython3",
   "version": "3.9.7"
  }
 },
 "nbformat": 4,
 "nbformat_minor": 5
}
